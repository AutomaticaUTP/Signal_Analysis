{
  "nbformat": 4,
  "nbformat_minor": 0,
  "metadata": {
    "kernelspec": {
      "display_name": "Python 3",
      "language": "python",
      "name": "python3"
    },
    "language_info": {
      "codemirror_mode": {
        "name": "ipython",
        "version": 3
      },
      "file_extension": ".py",
      "mimetype": "text/x-python",
      "name": "python",
      "nbconvert_exporter": "python",
      "pygments_lexer": "ipython3",
      "version": "3.7.1"
    },
    "colab": {
      "provenance": []
    },
    "widgets": {
      "application/vnd.jupyter.widget-state+json": {
        "6f5a2f01e1154b36b969156616e615a1": {
          "model_module": "@jupyter-widgets/controls",
          "model_name": "VBoxModel",
          "model_module_version": "1.5.0",
          "state": {
            "_dom_classes": [
              "widget-interact"
            ],
            "_model_module": "@jupyter-widgets/controls",
            "_model_module_version": "1.5.0",
            "_model_name": "VBoxModel",
            "_view_count": null,
            "_view_module": "@jupyter-widgets/controls",
            "_view_module_version": "1.5.0",
            "_view_name": "VBoxView",
            "box_style": "",
            "children": [
              "IPY_MODEL_161b1fb7901844cd9cc2fbbb287ffb4b",
              "IPY_MODEL_8d823a5413c14c489059ba9cf22d2431",
              "IPY_MODEL_691c4231deb94fefa7a309f764fc6319"
            ],
            "layout": "IPY_MODEL_e4feb6fb03e244b782fa4b874e64dded"
          }
        },
        "161b1fb7901844cd9cc2fbbb287ffb4b": {
          "model_module": "@jupyter-widgets/controls",
          "model_name": "FloatTextModel",
          "model_module_version": "1.5.0",
          "state": {
            "_dom_classes": [],
            "_model_module": "@jupyter-widgets/controls",
            "_model_module_version": "1.5.0",
            "_model_name": "FloatTextModel",
            "_view_count": null,
            "_view_module": "@jupyter-widgets/controls",
            "_view_module_version": "1.5.0",
            "_view_name": "FloatTextView",
            "continuous_update": false,
            "description": "sigma: ",
            "description_tooltip": null,
            "disabled": false,
            "layout": "IPY_MODEL_b961a3eaf82b4d6e931642212a469904",
            "step": 0.1,
            "style": "IPY_MODEL_e0eea03244354d4eb2a69fd3998f4e8e",
            "value": 0
          }
        },
        "8d823a5413c14c489059ba9cf22d2431": {
          "model_module": "@jupyter-widgets/controls",
          "model_name": "FloatTextModel",
          "model_module_version": "1.5.0",
          "state": {
            "_dom_classes": [],
            "_model_module": "@jupyter-widgets/controls",
            "_model_module_version": "1.5.0",
            "_model_name": "FloatTextModel",
            "_view_count": null,
            "_view_module": "@jupyter-widgets/controls",
            "_view_module_version": "1.5.0",
            "_view_name": "FloatTextView",
            "continuous_update": false,
            "description": "f: ",
            "description_tooltip": null,
            "disabled": false,
            "layout": "IPY_MODEL_d98311b748c144b5a47298d5b17c631e",
            "step": 0.1,
            "style": "IPY_MODEL_805a7efaef9e4e288704053be23403bc",
            "value": 0
          }
        },
        "691c4231deb94fefa7a309f764fc6319": {
          "model_module": "@jupyter-widgets/output",
          "model_name": "OutputModel",
          "model_module_version": "1.0.0",
          "state": {
            "_dom_classes": [],
            "_model_module": "@jupyter-widgets/output",
            "_model_module_version": "1.0.0",
            "_model_name": "OutputModel",
            "_view_count": null,
            "_view_module": "@jupyter-widgets/output",
            "_view_module_version": "1.0.0",
            "_view_name": "OutputView",
            "layout": "IPY_MODEL_012eaab29bbc4635bf631685c18929c3",
            "msg_id": "",
            "outputs": []
          }
        },
        "e4feb6fb03e244b782fa4b874e64dded": {
          "model_module": "@jupyter-widgets/base",
          "model_name": "LayoutModel",
          "model_module_version": "1.2.0",
          "state": {
            "_model_module": "@jupyter-widgets/base",
            "_model_module_version": "1.2.0",
            "_model_name": "LayoutModel",
            "_view_count": null,
            "_view_module": "@jupyter-widgets/base",
            "_view_module_version": "1.2.0",
            "_view_name": "LayoutView",
            "align_content": null,
            "align_items": null,
            "align_self": null,
            "border": null,
            "bottom": null,
            "display": null,
            "flex": null,
            "flex_flow": null,
            "grid_area": null,
            "grid_auto_columns": null,
            "grid_auto_flow": null,
            "grid_auto_rows": null,
            "grid_column": null,
            "grid_gap": null,
            "grid_row": null,
            "grid_template_areas": null,
            "grid_template_columns": null,
            "grid_template_rows": null,
            "height": null,
            "justify_content": null,
            "justify_items": null,
            "left": null,
            "margin": null,
            "max_height": null,
            "max_width": null,
            "min_height": null,
            "min_width": null,
            "object_fit": null,
            "object_position": null,
            "order": null,
            "overflow": null,
            "overflow_x": null,
            "overflow_y": null,
            "padding": null,
            "right": null,
            "top": null,
            "visibility": null,
            "width": null
          }
        },
        "b961a3eaf82b4d6e931642212a469904": {
          "model_module": "@jupyter-widgets/base",
          "model_name": "LayoutModel",
          "model_module_version": "1.2.0",
          "state": {
            "_model_module": "@jupyter-widgets/base",
            "_model_module_version": "1.2.0",
            "_model_name": "LayoutModel",
            "_view_count": null,
            "_view_module": "@jupyter-widgets/base",
            "_view_module_version": "1.2.0",
            "_view_name": "LayoutView",
            "align_content": null,
            "align_items": null,
            "align_self": null,
            "border": null,
            "bottom": null,
            "display": null,
            "flex": null,
            "flex_flow": null,
            "grid_area": null,
            "grid_auto_columns": null,
            "grid_auto_flow": null,
            "grid_auto_rows": null,
            "grid_column": null,
            "grid_gap": null,
            "grid_row": null,
            "grid_template_areas": null,
            "grid_template_columns": null,
            "grid_template_rows": null,
            "height": null,
            "justify_content": null,
            "justify_items": null,
            "left": null,
            "margin": null,
            "max_height": null,
            "max_width": null,
            "min_height": null,
            "min_width": null,
            "object_fit": null,
            "object_position": null,
            "order": null,
            "overflow": null,
            "overflow_x": null,
            "overflow_y": null,
            "padding": null,
            "right": null,
            "top": null,
            "visibility": null,
            "width": null
          }
        },
        "e0eea03244354d4eb2a69fd3998f4e8e": {
          "model_module": "@jupyter-widgets/controls",
          "model_name": "DescriptionStyleModel",
          "model_module_version": "1.5.0",
          "state": {
            "_model_module": "@jupyter-widgets/controls",
            "_model_module_version": "1.5.0",
            "_model_name": "DescriptionStyleModel",
            "_view_count": null,
            "_view_module": "@jupyter-widgets/base",
            "_view_module_version": "1.2.0",
            "_view_name": "StyleView",
            "description_width": "initial"
          }
        },
        "d98311b748c144b5a47298d5b17c631e": {
          "model_module": "@jupyter-widgets/base",
          "model_name": "LayoutModel",
          "model_module_version": "1.2.0",
          "state": {
            "_model_module": "@jupyter-widgets/base",
            "_model_module_version": "1.2.0",
            "_model_name": "LayoutModel",
            "_view_count": null,
            "_view_module": "@jupyter-widgets/base",
            "_view_module_version": "1.2.0",
            "_view_name": "LayoutView",
            "align_content": null,
            "align_items": null,
            "align_self": null,
            "border": null,
            "bottom": null,
            "display": null,
            "flex": null,
            "flex_flow": null,
            "grid_area": null,
            "grid_auto_columns": null,
            "grid_auto_flow": null,
            "grid_auto_rows": null,
            "grid_column": null,
            "grid_gap": null,
            "grid_row": null,
            "grid_template_areas": null,
            "grid_template_columns": null,
            "grid_template_rows": null,
            "height": null,
            "justify_content": null,
            "justify_items": null,
            "left": null,
            "margin": null,
            "max_height": null,
            "max_width": null,
            "min_height": null,
            "min_width": null,
            "object_fit": null,
            "object_position": null,
            "order": null,
            "overflow": null,
            "overflow_x": null,
            "overflow_y": null,
            "padding": null,
            "right": null,
            "top": null,
            "visibility": null,
            "width": null
          }
        },
        "805a7efaef9e4e288704053be23403bc": {
          "model_module": "@jupyter-widgets/controls",
          "model_name": "DescriptionStyleModel",
          "model_module_version": "1.5.0",
          "state": {
            "_model_module": "@jupyter-widgets/controls",
            "_model_module_version": "1.5.0",
            "_model_name": "DescriptionStyleModel",
            "_view_count": null,
            "_view_module": "@jupyter-widgets/base",
            "_view_module_version": "1.2.0",
            "_view_name": "StyleView",
            "description_width": ""
          }
        },
        "012eaab29bbc4635bf631685c18929c3": {
          "model_module": "@jupyter-widgets/base",
          "model_name": "LayoutModel",
          "model_module_version": "1.2.0",
          "state": {
            "_model_module": "@jupyter-widgets/base",
            "_model_module_version": "1.2.0",
            "_model_name": "LayoutModel",
            "_view_count": null,
            "_view_module": "@jupyter-widgets/base",
            "_view_module_version": "1.2.0",
            "_view_name": "LayoutView",
            "align_content": null,
            "align_items": null,
            "align_self": null,
            "border": null,
            "bottom": null,
            "display": null,
            "flex": null,
            "flex_flow": null,
            "grid_area": null,
            "grid_auto_columns": null,
            "grid_auto_flow": null,
            "grid_auto_rows": null,
            "grid_column": null,
            "grid_gap": null,
            "grid_row": null,
            "grid_template_areas": null,
            "grid_template_columns": null,
            "grid_template_rows": null,
            "height": null,
            "justify_content": null,
            "justify_items": null,
            "left": null,
            "margin": null,
            "max_height": null,
            "max_width": null,
            "min_height": null,
            "min_width": null,
            "object_fit": null,
            "object_position": null,
            "order": null,
            "overflow": null,
            "overflow_x": null,
            "overflow_y": null,
            "padding": null,
            "right": null,
            "top": null,
            "visibility": null,
            "width": null
          }
        },
        "57aeda44a1934f90a76a078308bd52b3": {
          "model_module": "@jupyter-widgets/controls",
          "model_name": "VBoxModel",
          "model_module_version": "1.5.0",
          "state": {
            "_dom_classes": [
              "widget-interact"
            ],
            "_model_module": "@jupyter-widgets/controls",
            "_model_module_version": "1.5.0",
            "_model_name": "VBoxModel",
            "_view_count": null,
            "_view_module": "@jupyter-widgets/controls",
            "_view_module_version": "1.5.0",
            "_view_name": "VBoxView",
            "box_style": "",
            "children": [
              "IPY_MODEL_78c1abff3f5142e7b139035e85e604ff",
              "IPY_MODEL_216a32e3a5b84078aebfd6ab38eb6c72",
              "IPY_MODEL_0bcf933d6d5d4f01b065ec9391530f3e"
            ],
            "layout": "IPY_MODEL_d8584426351f42c68db324fcc53e3bd5"
          }
        },
        "78c1abff3f5142e7b139035e85e604ff": {
          "model_module": "@jupyter-widgets/controls",
          "model_name": "FloatSliderModel",
          "model_module_version": "1.5.0",
          "state": {
            "_dom_classes": [],
            "_model_module": "@jupyter-widgets/controls",
            "_model_module_version": "1.5.0",
            "_model_name": "FloatSliderModel",
            "_view_count": null,
            "_view_module": "@jupyter-widgets/controls",
            "_view_module_version": "1.5.0",
            "_view_name": "FloatSliderView",
            "continuous_update": false,
            "description": "alpha:",
            "description_tooltip": null,
            "disabled": false,
            "layout": "IPY_MODEL_922c59e800aa4f8aa149b82cbb4193b1",
            "max": 10,
            "min": 0.01,
            "orientation": "horizontal",
            "readout": true,
            "readout_format": ".2f",
            "step": 0.01,
            "style": "IPY_MODEL_47c5fd1621394e85a6d66f43873368d5",
            "value": 1
          }
        },
        "216a32e3a5b84078aebfd6ab38eb6c72": {
          "model_module": "@jupyter-widgets/controls",
          "model_name": "FloatSliderModel",
          "model_module_version": "1.5.0",
          "state": {
            "_dom_classes": [],
            "_model_module": "@jupyter-widgets/controls",
            "_model_module_version": "1.5.0",
            "_model_name": "FloatSliderModel",
            "_view_count": null,
            "_view_module": "@jupyter-widgets/controls",
            "_view_module_version": "1.5.0",
            "_view_name": "FloatSliderView",
            "continuous_update": false,
            "description": "t0:",
            "description_tooltip": null,
            "disabled": false,
            "layout": "IPY_MODEL_510b6d4b6d2b4bed9112d91bbf020ef2",
            "max": 5,
            "min": -5,
            "orientation": "horizontal",
            "readout": true,
            "readout_format": ".2f",
            "step": 0.1,
            "style": "IPY_MODEL_513282fc213b41e2b866ef96a9e506aa",
            "value": 0
          }
        },
        "0bcf933d6d5d4f01b065ec9391530f3e": {
          "model_module": "@jupyter-widgets/output",
          "model_name": "OutputModel",
          "model_module_version": "1.0.0",
          "state": {
            "_dom_classes": [],
            "_model_module": "@jupyter-widgets/output",
            "_model_module_version": "1.0.0",
            "_model_name": "OutputModel",
            "_view_count": null,
            "_view_module": "@jupyter-widgets/output",
            "_view_module_version": "1.0.0",
            "_view_name": "OutputView",
            "layout": "IPY_MODEL_f026a9c7a9dc4bc58feff03bf294f4be",
            "msg_id": "",
            "outputs": []
          }
        },
        "d8584426351f42c68db324fcc53e3bd5": {
          "model_module": "@jupyter-widgets/base",
          "model_name": "LayoutModel",
          "model_module_version": "1.2.0",
          "state": {
            "_model_module": "@jupyter-widgets/base",
            "_model_module_version": "1.2.0",
            "_model_name": "LayoutModel",
            "_view_count": null,
            "_view_module": "@jupyter-widgets/base",
            "_view_module_version": "1.2.0",
            "_view_name": "LayoutView",
            "align_content": null,
            "align_items": null,
            "align_self": null,
            "border": null,
            "bottom": null,
            "display": null,
            "flex": null,
            "flex_flow": null,
            "grid_area": null,
            "grid_auto_columns": null,
            "grid_auto_flow": null,
            "grid_auto_rows": null,
            "grid_column": null,
            "grid_gap": null,
            "grid_row": null,
            "grid_template_areas": null,
            "grid_template_columns": null,
            "grid_template_rows": null,
            "height": null,
            "justify_content": null,
            "justify_items": null,
            "left": null,
            "margin": null,
            "max_height": null,
            "max_width": null,
            "min_height": null,
            "min_width": null,
            "object_fit": null,
            "object_position": null,
            "order": null,
            "overflow": null,
            "overflow_x": null,
            "overflow_y": null,
            "padding": null,
            "right": null,
            "top": null,
            "visibility": null,
            "width": null
          }
        },
        "922c59e800aa4f8aa149b82cbb4193b1": {
          "model_module": "@jupyter-widgets/base",
          "model_name": "LayoutModel",
          "model_module_version": "1.2.0",
          "state": {
            "_model_module": "@jupyter-widgets/base",
            "_model_module_version": "1.2.0",
            "_model_name": "LayoutModel",
            "_view_count": null,
            "_view_module": "@jupyter-widgets/base",
            "_view_module_version": "1.2.0",
            "_view_name": "LayoutView",
            "align_content": null,
            "align_items": null,
            "align_self": null,
            "border": null,
            "bottom": null,
            "display": null,
            "flex": null,
            "flex_flow": null,
            "grid_area": null,
            "grid_auto_columns": null,
            "grid_auto_flow": null,
            "grid_auto_rows": null,
            "grid_column": null,
            "grid_gap": null,
            "grid_row": null,
            "grid_template_areas": null,
            "grid_template_columns": null,
            "grid_template_rows": null,
            "height": null,
            "justify_content": null,
            "justify_items": null,
            "left": null,
            "margin": null,
            "max_height": null,
            "max_width": null,
            "min_height": null,
            "min_width": null,
            "object_fit": null,
            "object_position": null,
            "order": null,
            "overflow": null,
            "overflow_x": null,
            "overflow_y": null,
            "padding": null,
            "right": null,
            "top": null,
            "visibility": null,
            "width": null
          }
        },
        "47c5fd1621394e85a6d66f43873368d5": {
          "model_module": "@jupyter-widgets/controls",
          "model_name": "SliderStyleModel",
          "model_module_version": "1.5.0",
          "state": {
            "_model_module": "@jupyter-widgets/controls",
            "_model_module_version": "1.5.0",
            "_model_name": "SliderStyleModel",
            "_view_count": null,
            "_view_module": "@jupyter-widgets/base",
            "_view_module_version": "1.2.0",
            "_view_name": "StyleView",
            "description_width": "initial",
            "handle_color": null
          }
        },
        "510b6d4b6d2b4bed9112d91bbf020ef2": {
          "model_module": "@jupyter-widgets/base",
          "model_name": "LayoutModel",
          "model_module_version": "1.2.0",
          "state": {
            "_model_module": "@jupyter-widgets/base",
            "_model_module_version": "1.2.0",
            "_model_name": "LayoutModel",
            "_view_count": null,
            "_view_module": "@jupyter-widgets/base",
            "_view_module_version": "1.2.0",
            "_view_name": "LayoutView",
            "align_content": null,
            "align_items": null,
            "align_self": null,
            "border": null,
            "bottom": null,
            "display": null,
            "flex": null,
            "flex_flow": null,
            "grid_area": null,
            "grid_auto_columns": null,
            "grid_auto_flow": null,
            "grid_auto_rows": null,
            "grid_column": null,
            "grid_gap": null,
            "grid_row": null,
            "grid_template_areas": null,
            "grid_template_columns": null,
            "grid_template_rows": null,
            "height": null,
            "justify_content": null,
            "justify_items": null,
            "left": null,
            "margin": null,
            "max_height": null,
            "max_width": null,
            "min_height": null,
            "min_width": null,
            "object_fit": null,
            "object_position": null,
            "order": null,
            "overflow": null,
            "overflow_x": null,
            "overflow_y": null,
            "padding": null,
            "right": null,
            "top": null,
            "visibility": null,
            "width": null
          }
        },
        "513282fc213b41e2b866ef96a9e506aa": {
          "model_module": "@jupyter-widgets/controls",
          "model_name": "SliderStyleModel",
          "model_module_version": "1.5.0",
          "state": {
            "_model_module": "@jupyter-widgets/controls",
            "_model_module_version": "1.5.0",
            "_model_name": "SliderStyleModel",
            "_view_count": null,
            "_view_module": "@jupyter-widgets/base",
            "_view_module_version": "1.2.0",
            "_view_name": "StyleView",
            "description_width": "initial",
            "handle_color": null
          }
        },
        "f026a9c7a9dc4bc58feff03bf294f4be": {
          "model_module": "@jupyter-widgets/base",
          "model_name": "LayoutModel",
          "model_module_version": "1.2.0",
          "state": {
            "_model_module": "@jupyter-widgets/base",
            "_model_module_version": "1.2.0",
            "_model_name": "LayoutModel",
            "_view_count": null,
            "_view_module": "@jupyter-widgets/base",
            "_view_module_version": "1.2.0",
            "_view_name": "LayoutView",
            "align_content": null,
            "align_items": null,
            "align_self": null,
            "border": null,
            "bottom": null,
            "display": null,
            "flex": null,
            "flex_flow": null,
            "grid_area": null,
            "grid_auto_columns": null,
            "grid_auto_flow": null,
            "grid_auto_rows": null,
            "grid_column": null,
            "grid_gap": null,
            "grid_row": null,
            "grid_template_areas": null,
            "grid_template_columns": null,
            "grid_template_rows": null,
            "height": null,
            "justify_content": null,
            "justify_items": null,
            "left": null,
            "margin": null,
            "max_height": null,
            "max_width": null,
            "min_height": null,
            "min_width": null,
            "object_fit": null,
            "object_position": null,
            "order": null,
            "overflow": null,
            "overflow_x": null,
            "overflow_y": null,
            "padding": null,
            "right": null,
            "top": null,
            "visibility": null,
            "width": null
          }
        }
      }
    }
  },
  "cells": [
    {
      "cell_type": "markdown",
      "metadata": {
        "id": "2MjcZEW0r_pU"
      },
      "source": [
        "# **6. Señales singulares**\n",
        "\n",
        "<p align = \"justify\"><b>Alcance: </b> Se definen las señales singulares y su implementación mediante el módulo <i>SymPy</i>."
      ]
    },
    {
      "cell_type": "markdown",
      "metadata": {
        "id": "bz3lC8tQH988"
      },
      "source": [
        "## **6.1. Señales estándar**\n",
        "\n",
        "<p align = \"justify\">Ciertas <a href = \"https://en.wikipedia.org/wiki/Signal_%28electrical_engineering%29\">señales</a> (funciones)  juegan un papel importante en la aplicación teórica y práctica del <a href = \"https://en.wikipedia.org/wiki/Signal_processing\">procesamiento de señales</a>. Surgen de la teoría de señales y sistemas, son usadas para caracterizar las propiedades de los sistemas lineales e invariantes con el tiempo (LTI) y ocurren frecuentemente en aplicaciones prácticas. Estas señales estándar (prototipo) son introducidas e ilustradas a continuación. Se limitan a señales determinísticas de una dimensión."
      ]
    },
    {
      "cell_type": "markdown",
      "metadata": {
        "id": "lVECNrrpH988"
      },
      "source": [
        "### **6.1.1. Señal exponencial compleja**\n",
        "\n",
        "<p align = \"justify\">La señal exponencial compleja está definida por la <a href = \"https://en.wikipedia.org/wiki/Exponential_function#Complex_plane\">función exponencial compleja</a>.\n",
        "\n",
        "\\begin{equation}\n",
        "x(t) = e^{s t} \\tag{6.1}\n",
        "\\end{equation}\n",
        "\n",
        "<p align = \"justify\">donde $s = \\sigma + j \\Omega$ denota la frecuencia compleja con $\\sigma, \\Omega \\in \\mathbb{R}$. La señal es usada a menudo como una representación general de señales. Usando <a href = \"https://en.wikipedia.org/wiki/Euler's_formula:\">la ecuación de Euler</a>, la función se puede reformular como:\n",
        "\n",
        "\\begin{equation}\n",
        "x(t) = e^{(\\sigma + j \\Omega) t} = e^{\\sigma t} \\cos(\\Omega t) + j e^{\\sigma t} \\sin(\\Omega t) \\tag{6.2}\n",
        "\\end{equation}\n",
        "\n",
        "<p align = \"justify\">La parte real/imaginaria de la señal exponencial está dada por un coseno/seno con frecuencia angular $\\Omega = 2 \\pi F$. Para $t>0$, el peso dependiente del tiempo $e^{\\sigma t}$ es:\n",
        "\n",
        "* exponencialmente decreciente con el tiempo para $\\sigma < 0$,\n",
        "* constantemente uno para $\\sigma = 0$,\n",
        "* exponencialmente creciente con el tiempo para $\\sigma > 0$,\n",
        "\n",
        "<p align = \"justify\">Además, la señal exponencial compleja es usada para modelar señales armónicas con amplitud exponencialmente decreciente o creciente. Ahora bien, una señal exponencial compleja discreta puede expresarse como:\n",
        "\n",
        "\\begin{equation}\n",
        "x(n) = e^{sn},~ n \\in \\mathbb{Z}\\tag{6.3}\n",
        "\\end{equation}\n",
        "\n",
        "<p align = \"justify\">con $s = \\sigma + j \\omega$.\n",
        "\n",
        "\\begin{equation}\n",
        "x(n) = e^{\\sigma n} \\cdot e^{j \\omega n} \\tag{6.4}\n",
        "\\end{equation}\n",
        "\n",
        "Donde $\\omega$ debe ser una frecuencia discreta y $e^{j \\omega n}$ puede ser rescrito como $e^{j \\omega n} = Cos(\\omega n) + j~Sen(\\omega n)$. Por lo tanto, existirá una parte real y otra imaginaria.\n",
        "\n",
        "\\begin{equation}\n",
        "x(n)_{Real} = e^{\\sigma n} Cos(\\omega n) \\tag{6.5}\n",
        "\\end{equation}\n",
        "\n",
        "\\begin{equation}\n",
        "x(n)_{Imag} = e^{\\sigma n} Sen(\\omega n) \\tag{6.6}\n",
        "\\end{equation}\n",
        "\n",
        "<p align = \"justify\">El tablero 6.1 permite manipular los parámetros $\\sigma$ y $f$ de una señal exponencial compleja discreta."
      ]
    },
    {
      "cell_type": "markdown",
      "metadata": {
        "id": "eQcEoYqI7NJa"
      },
      "source": [
        "Código 6.1: genera una señal exponencial compleja discreta y se manipulan sus parámetros."
      ]
    },
    {
      "cell_type": "code",
      "metadata": {
        "id": "jnxIKEGAxCU1"
      },
      "source": [
        "import matplotlib.pyplot as plt\n",
        "import numpy as np\n",
        "import ipywidgets as ipy\n",
        "import warnings\n",
        "warnings.filterwarnings('ignore')                                               #Evita que aparezcan las advertencias a la hora de usar sympy\n",
        "\n",
        "# Se crea una función para crear gráficos personalizados\n",
        "def Ax(ax):\n",
        "\n",
        "    ax.spines['left'].set_position(('data',0))                                  #Se ajustan los ejes del grafico\n",
        "    ax.spines['right'].set_color('none')\n",
        "    ax.spines['bottom'].set_position(('data',0))\n",
        "    ax.spines['top'].set_color('none')\n",
        "    ax.set_axisbelow(False)\n",
        "\n",
        "    for i in ax.get_xticklabels() + ax.get_yticklabels():                       #Se configura los parámetros de las etiquetas de los ejess\n",
        "        i.set_fontsize(15)\n",
        "        i.set_bbox(dict(facecolor='white', edgecolor='None', alpha=0.75 ))\n",
        "\n",
        "    ax.set_xlabel('', fontsize=20)\n",
        "    ax.set_ylabel('', fontsize=20 ,rotation=0)\n",
        "    ax.xaxis.set_label_coords(1.0, 0.0, ax.get_yaxis_transform())               #Se ubica los títulos de los ejes\n",
        "    ax.yaxis.set_label_coords(0.0, 1.0, ax.get_xaxis_transform())\n",
        "    return ax"
      ],
      "execution_count": 1,
      "outputs": []
    },
    {
      "cell_type": "code",
      "metadata": {
        "id": "LsKUVGoySfkV",
        "colab": {
          "base_uri": "https://localhost:8080/",
          "height": 719,
          "referenced_widgets": [
            "6f5a2f01e1154b36b969156616e615a1",
            "161b1fb7901844cd9cc2fbbb287ffb4b",
            "8d823a5413c14c489059ba9cf22d2431",
            "691c4231deb94fefa7a309f764fc6319",
            "e4feb6fb03e244b782fa4b874e64dded",
            "b961a3eaf82b4d6e931642212a469904",
            "e0eea03244354d4eb2a69fd3998f4e8e",
            "d98311b748c144b5a47298d5b17c631e",
            "805a7efaef9e4e288704053be23403bc",
            "012eaab29bbc4635bf631685c18929c3"
          ]
        },
        "outputId": "6f2b5cee-3343-4541-e5eb-737550d8b532"
      },
      "source": [
        "plt.rcParams['figure.figsize'] = 15, 8\n",
        "plt.rcParams['lines.linewidth'] = 3\n",
        "n1 = np.arange(0, 50)\n",
        "def widget1(sig, f):\n",
        "\n",
        "    s = sig + 2j*np.pi*f\n",
        "    x = np.exp(s*n1)\n",
        "\n",
        "    fig, (ax1, ax2) = plt.subplots(1, 2)\n",
        "    ax1, ax2 = Ax(ax1), Ax(ax2)\n",
        "    ax1.stem(n1, x.real,  use_line_collection=True,                             #Se realiza la gráfica discreta\n",
        "                linefmt='grey', markerfmt='ko',\n",
        "                basefmt=\" \")\n",
        "    ax1.set_xlabel(\"$n$\")\n",
        "    ax1.set_ylabel(r'$x(n)_{real}$')\n",
        "    ax1.set_xlim(0, 55)\n",
        "\n",
        "    ax2.stem(n1, x.imag,  use_line_collection=True,                             #Se realiza la gráfica discreta\n",
        "                linefmt='grey', markerfmt='ko',\n",
        "                basefmt=\" \")\n",
        "    ax2.set_xlabel(\"$n$\")\n",
        "    ax2.set_ylabel(r'$x(n)_{imag}$')\n",
        "    ax2.set_xlim(0, 55)\n",
        "\n",
        "display(ipy.interactive(\n",
        "    widget1,\n",
        "        sig=ipy.FloatText(\n",
        "            value=0, step=0.1,\n",
        "            description='sigma: ',\n",
        "            style=dict(description_width='initial'),\n",
        "            continuous_update=False),\n",
        "        f=ipy.FloatText(\n",
        "            value=0, step=0.1,\n",
        "            description='f: ',\n",
        "            continuous_update=False)\n",
        "))"
      ],
      "execution_count": 2,
      "outputs": [
        {
          "output_type": "display_data",
          "data": {
            "text/plain": [
              "interactive(children=(FloatText(value=0.0, description='sigma: ', step=0.1, style=DescriptionStyle(description…"
            ],
            "application/vnd.jupyter.widget-view+json": {
              "version_major": 2,
              "version_minor": 0,
              "model_id": "6f5a2f01e1154b36b969156616e615a1"
            }
          },
          "metadata": {}
        },
        {
          "output_type": "display_data",
          "data": {
            "text/plain": [
              "<Figure size 1500x800 with 2 Axes>"
            ],
            "image/png": "[encoded data removed]"
          },
          "metadata": {}
        }
      ]
    },
    {
      "cell_type": "markdown",
      "metadata": {
        "id": "ZL9D6fh-6aUA"
      },
      "source": [
        "<p align = \"center\"><b>Tablero 6.1. </b> Señal exponencial compleja discreta"
      ]
    },
    {
      "cell_type": "markdown",
      "metadata": {
        "id": "o78R8atbH989"
      },
      "source": [
        "<p align = \"justify\"><b><h4>Ejemplo 6.1: <h4\\></b>El ejemplo ilustra la señal exponencial compleja y sus parámetros. El módulo de Python <a href = \"http://docs.sympy.org/latest/index.html\">SymPy</a> es usado para este propósito. Este proporciona funcionalidad para las variables y funciones simbólicas, así como su cálculo. Las variables simbólicas requeridas deben definirse explícitamente antes de su uso. En este ejemplo, $t$, $\\omega$ y $\\sigma$ son definidos como variables simbólicas reales, seguido por la definición de la propia señal exponencial."
      ]
    },
    {
      "cell_type": "markdown",
      "metadata": {
        "id": "Qo9tRVf8RjSE"
      },
      "source": [
        "Código 6.2: permite declarar una función exponencial compleja de forma simbólica."
      ]
    },
    {
      "cell_type": "code",
      "metadata": {
        "id": "lZU_F_F3H98-",
        "colab": {
          "base_uri": "https://localhost:8080/",
          "height": 39
        },
        "outputId": "08992ca9-034e-4eee-de03-168927ec5b48"
      },
      "source": [
        "from sympy import *                                                             #Se importa el modulo Sympy y sus clases\n",
        "init_printing()                                                                 #se inicializa para mostrar en pantalla\n",
        "\n",
        "t, sigma, Omega = symbols('t sigma Omega', real=True)                           #Se declaran las variables simbólicas\n",
        "x = Function('x')(t)                                                            #Se declara una función simbólica\n",
        "s = sigma + I*Omega\n",
        "signal = exp(s*t)                                                               #Se crea la función exponencial\n",
        "Eq(x, signal)                                                                   #Se establece la ecuación"
      ],
      "execution_count": 3,
      "outputs": [
        {
          "output_type": "execute_result",
          "data": {
            "text/plain": [
              "        t⋅(ⅈ⋅Ω + σ)\n",
              "x(t) = ℯ           "
            ],
            "text/latex": "$\\displaystyle x{\\left(t \\right)} = e^{t \\left(i \\Omega + \\sigma\\right)}$"
          },
          "metadata": {},
          "execution_count": 3
        }
      ]
    },
    {
      "cell_type": "markdown",
      "metadata": {
        "id": "LcrkvkSrH99C"
      },
      "source": [
        "<p align = \"justify\">Ahora tomando valores específicos para la frecuencia compleja $s = \\sigma + j \\Omega$ con fines ilustrativos, una nueva señal es definida. La parte real e imaginaria de la señal es graficada."
      ]
    },
    {
      "cell_type": "markdown",
      "metadata": {
        "id": "pXmiJ2UxRtdc"
      },
      "source": [
        "Código 6.3: genera una señal exponencial compleja continua."
      ]
    },
    {
      "cell_type": "code",
      "metadata": {
        "id": "s3PgphbJH99C",
        "colab": {
          "base_uri": "https://localhost:8080/",
          "height": 749
        },
        "outputId": "9a1ff1b6-48d7-41ea-cdc1-edab91aa7987"
      },
      "source": [
        "y = signal.subs({Omega: 4, sigma : -0.2})\n",
        "display(Eq(x, y))\n",
        "\n",
        "t_limits = (t, 0, 2*pi)\n",
        "\n",
        "p1 = plot(re(y), t_limits, ylim=[-1,1], show = False,\n",
        "          line_color = 'orange', legend = True)                                 #r' indica al linterprete una variable tipo string\n",
        "p2 = plot(im(y), t_limits, ylim=[-1,1], show = False,\n",
        "          line_color = 'blue', legend = True)\n",
        "p3 = plot(Abs(y), t_limits, ylim=[-1,1], show = False,\n",
        "          line_color = 'green', legend = True)\n",
        "p1.extend(p2)\n",
        "p1.extend(p3)\n",
        "p1.show()                                                                       #Se muestra la grafica\n",
        "\n",
        "x_re = Function('x_re')(t)\n",
        "x_im = Function('x_im')(t)\n",
        "display(Eq(x_re, re(y)))\n",
        "display(Eq(x_im, im(y)))"
      ],
      "execution_count": 4,
      "outputs": [
        {
          "output_type": "display_data",
          "data": {
            "text/plain": [
              "        t⋅(-0.2 + 4⋅ⅈ)\n",
              "x(t) = ℯ              "
            ],
            "text/latex": "$\\displaystyle x{\\left(t \\right)} = e^{t \\left(-0.2 + 4 i\\right)}$"
          },
          "metadata": {}
        },
        {
          "output_type": "display_data",
          "data": {
            "text/plain": [
              "<Figure size 1500x800 with 1 Axes>"
            ],
            "image/png": "[encoded data removed]"
          },
          "metadata": {}
        },
        {
          "output_type": "display_data",
          "data": {
            "text/plain": [
              "          -0.2⋅t         \n",
              "xᵣₑ(t) = ℯ      ⋅cos(4⋅t)"
            ],
            "text/latex": "$\\displaystyle x_{re}{\\left(t \\right)} = e^{- 0.2 t} \\cos{\\left(4 t \\right)}$"
          },
          "metadata": {}
        },
        {
          "output_type": "display_data",
          "data": {
            "text/plain": [
              "          -0.2⋅t         \n",
              "xᵢₘ(t) = ℯ      ⋅sin(4⋅t)"
            ],
            "text/latex": "$\\displaystyle x_{im}{\\left(t \\right)} = e^{- 0.2 t} \\sin{\\left(4 t \\right)}$"
          },
          "metadata": {}
        }
      ]
    },
    {
      "cell_type": "markdown",
      "metadata": {
        "id": "0PZN4MLaRXc9"
      },
      "source": [
        "<p align = \"center\"><b>Tablero 6.2. </b> Señal exponencial compleja continua"
      ]
    },
    {
      "cell_type": "markdown",
      "metadata": {
        "id": "3-r4nRDPH99F"
      },
      "source": [
        "### **6.1.2. Impulso de Dirac - Función delta $\\delta(t)$**\n",
        "\n",
        "<p align = \"justify\">El impulso de Dirac es una de las más importantes funciones en la teoría de señales y sistemas. Es usada para  caracterizar sistemas LTI y el modelar  señales similares a impulsos. El impulso de Dirac es definido de la forma <a href = \"https://en.wikipedia.org/wiki/Dirac_delta_function\">Fun`ión delta de Dirac</a> la cual no es una función en el sentido convencional. Es una función generalizada o <i>distribución</i>.\n",
        "\n",
        "\\begin{equation}\n",
        "\\delta(t) = \\begin{cases} 0 & t \\neq 0 \\\\  \\infty & t=0  \\end{cases} \\tag{6.7}\n",
        "\\end{equation}\n",
        "\n",
        "<p align = \"justify\">El impulso de Dirac es denotado como $\\delta(t)$. La función delta de Dirac se define en términos de sus propiedades solamente y por su efecto sobre otras funciones. Note entonces que función impulso puede ser descrita por cualquier función que cumpla sus propiedades.\n",
        "\n",
        "\\begin{equation}\n",
        "\\begin{split}\n",
        "\\int_{-\\infty}^{\\infty} \\delta(t) dt = 1\\\\\n",
        "\\delta(t) = 0, t \\neq 0\n",
        "\\end{split}\n",
        "\\end{equation}\n",
        "\n",
        "<p align = \"justify\">Para el caso discreto, la función delta de Dirac se define de la siguiente manera:\n",
        "\n",
        "\\begin{equation}\n",
        "\\delta(n) = \\begin{cases} 0 & n \\neq 0 \\\\  1 & n=0  \\end{cases} \\tag{6.9}\n",
        "\\end{equation}\n",
        "\n",
        "<p align = \"justify\">Denotada como $\\delta(n)$, cumple la siguiente propiedad:\n",
        "\n",
        "\\begin{equation}\n",
        "    \\sum_{n=-\\infty}^{\\infty} \\delta(n)= 1 \\tag{6.10}\n",
        "    \\end{equation}\n",
        "\n",
        "<p align = \"justify\">Si se suponemos la función $\\phi(t)$ (función de prueba), la cual se hace cero en algún lugar finito, entonces la función $\\delta(t)$ se definirá como una función simbólica por la relación:\n",
        "\n",
        "\\begin{equation}\n",
        "\\int_{-\\infty}^{\\infty} \\delta(t) \\cdot \\phi(t)dt = \\phi(0) \\tag{6.11}\n",
        "\\end{equation}\n",
        "\n",
        "<p align = \"justify\">La expresión anterior no tiene el significado común de una integral definida, sino que la integral, asi como la función $\\delta(t)$, están definidas por el valor $\\phi(0)$, asignado a la función $\\phi(t)$. Con la información dada, la función $\\delta(t)$ se tratará como una función ordinaria sólo para los valores de las integrales donde aparezca. Además, la función delta $\\delta(t)$ es también llamada función impulso o función kroncker y se puede interpretar como la acción que hace angosta otra función dada, $E_{\\alpha}(t-t_0)$, definida con área unitaria en la forma:\n",
        "\n",
        "\\begin{equation}\n",
        "\\int_{-\\infty}^{\\infty} E_{\\alpha}(t-t_0)~dt = \\alpha \\frac{1}{\\alpha} = 1 \\tag{6.12}\n",
        "\\end{equation}\n",
        "\n",
        "<p align = \"justify\">de tal manera que su base determinada para un intervalo de tiempo $(t_0 - \\frac{\\alpha}{2}, t_0 + \\frac{\\alpha}{2})$ tiende a cero.\n",
        "\n",
        "\\begin{equation}\n",
        "\\delta(t-t_0) \\triangleq \\lim_{\\alpha \\to 0} E_{\\alpha}(t-t_0) = \\lim_{\\alpha \\to 0} \\begin{cases} 0 & |t-t_0| > \\frac{\\alpha}{2} \\\\  \\frac{1}{\\alpha} & |t-t_0| \\leq \\frac{\\alpha}{2}   \\end{cases} \\tag{6.13}\n",
        "\\end{equation}\n",
        "\n",
        "<p align = \"justify\">El tablero 6.3 permite variar los parámetros $\\alpha$ y $t_0$ de la función $E_\\alpha (t-t_0)$."
      ]
    },
    {
      "cell_type": "markdown",
      "metadata": {
        "id": "IDXfc1Ysk7gJ"
      },
      "source": [
        "Código 6.4: genera una función gate."
      ]
    },
    {
      "cell_type": "code",
      "metadata": {
        "id": "sZtlN4ZrihWc",
        "colab": {
          "base_uri": "https://localhost:8080/",
          "height": 746,
          "referenced_widgets": [
            "57aeda44a1934f90a76a078308bd52b3",
            "78c1abff3f5142e7b139035e85e604ff",
            "216a32e3a5b84078aebfd6ab38eb6c72",
            "0bcf933d6d5d4f01b065ec9391530f3e",
            "d8584426351f42c68db324fcc53e3bd5",
            "922c59e800aa4f8aa149b82cbb4193b1",
            "47c5fd1621394e85a6d66f43873368d5",
            "510b6d4b6d2b4bed9112d91bbf020ef2",
            "513282fc213b41e2b866ef96a9e506aa",
            "f026a9c7a9dc4bc58feff03bf294f4be"
          ]
        },
        "outputId": "c7fa219e-9e2e-4fb1-9061-1bed449e4740"
      },
      "source": [
        "t1 = np.arange(-5, 5, 0.01)\n",
        "def widget2(alpha, t0):\n",
        "    x = np.piecewise(t1, [np.abs(t1-t0) <= .5 * alpha], [1/alpha])\n",
        "    fig, ax = plt.subplots(1)\n",
        "    ax = Ax(ax)\n",
        "    ax.plot(t1, x)\n",
        "    ax.set_ylim(0)\n",
        "    ax.set_ylabel(r'$E_{\\alpha}(t-t_0)$')\n",
        "\n",
        "display(ipy.interactive(\n",
        "    widget2,\n",
        "        alpha=ipy.FloatSlider(\n",
        "            value=1, min=0.01, max=10.0, step=0.01,\n",
        "            description='alpha:',\n",
        "            style=dict(description_width='initial'),\n",
        "            continuous_update=False),\n",
        "        t0=ipy.FloatSlider(\n",
        "            value=0, min=-5, max=5, step=0.1,\n",
        "            description='t0:',\n",
        "            style=dict(description_width='initial'),\n",
        "            continuous_update=False)\n",
        "))"
      ],
      "execution_count": 5,
      "outputs": [
        {
          "output_type": "display_data",
          "data": {
            "text/plain": [
              "interactive(children=(FloatSlider(value=1.0, continuous_update=False, description='alpha:', max=10.0, min=0.01…"
            ],
            "application/vnd.jupyter.widget-view+json": {
              "version_major": 2,
              "version_minor": 0,
              "model_id": "57aeda44a1934f90a76a078308bd52b3"
            }
          },
          "metadata": {}
        },
        {
          "output_type": "display_data",
          "data": {
            "text/plain": [
              "<Figure size 1500x800 with 1 Axes>"
            ],
            "image/png": "[encoded data removed]"
          },
          "metadata": {}
        }
      ]
    },
    {
      "cell_type": "markdown",
      "metadata": {
        "id": "VvWbEqanrNct"
      },
      "source": [
        "<p align = \"center\"><b>Tablero 6.3. </b> Función gate para diferentes valores de alpha"
      ]
    },
    {
      "cell_type": "markdown",
      "metadata": {
        "id": "TtB6gfDxtiiw"
      },
      "source": [
        "<p align = \"justify\">Ahora bien, la expresión $\\beta \\cdot \\delta(t-t_0)$ puede interpretarse como el área del pulso elemental."
      ]
    },
    {
      "cell_type": "markdown",
      "metadata": {
        "id": "2roXhjJYifvH"
      },
      "source": [
        "#### **6.1.2.1. Propiedades de la función $\\delta(t)$**\n",
        "\n",
        "<p align = \"justify\">1. <b>Propiedad de selectividad</b>\n",
        "\n",
        "\\begin{equation}\n",
        "\\int_{-\\infty}^{\\infty} \\delta(t) \\cdot \\phi(t) = \\phi(0)\n",
        "\\end{equation}\n",
        "\n",
        "<p align = \"justify\">donde $\\phi(t)$ necesita ser diferenciable en $t=0$. La propiedad de selectividad implica $\\int_{-\\infty}^{\\infty} \\delta(t) = 1$. Ahora bien la expresión se determinará de la siguiente forma.\n",
        "\n",
        "\\begin{equation}\n",
        "\\int_{-\\infty}^{\\infty} \\delta(t-t_{0}) \\cdot \\phi(t)dt = \\phi(t_{0}) \\tag{6.14}\n",
        "\\end{equation}\n",
        "\n",
        "**Demostración:**\n",
        "\n",
        "<p align = \"justify\">Realizando el cambio de variable $x = t-t_0$, $dx = dt$, la integral anterior queda de la siguiente forma:\n",
        "\n",
        "\\begin{equation}\n",
        "\\int_{-\\infty}^{\\infty} \\delta(x) \\phi(x+t_0)~dx = \\phi(x+t_0) \\Big|_{x=0} = \\phi(t_0)\n",
        "\\end{equation}\n",
        "\n",
        "<p align = \"justify\">2. <b>Escalamiento</b>\n",
        "\n",
        "\\begin{equation}\n",
        "\\int_{-\\infty}^{\\infty} \\delta(a t) \\cdot \\phi(t)~dt = \\frac{1}{|a|} \\phi(0) \\tag{6.15}\n",
        "\\end{equation}\n",
        "\n",
        "<p align = \"justify\">donde $a \\in \\mathbb{R} \\setminus 0$ (sin incluir el 0). Esto implica que el impulso de Dirac es una función con simetría uniforme.\n",
        "\n",
        "**Demostración:**\n",
        "\n",
        "<p align = \"justify\">Para $a>0$ sea $x = a\\cdot t$ y $dx = a\\cdot dt$.\n",
        "\n",
        "\\begin{equation*}\n",
        "\\begin{split}\n",
        "\\int_{-\\infty}^{\\infty} \\delta(at)\\cdot \\phi(t)dt &= \\int_{-\\infty}^{\\infty} \\delta(x) \\cdot \\phi \\left(\\frac{x}{a} \\right)~\\frac{dx}{a}\\\\\n",
        "&= \\frac{1}{a} \\int_{-\\infty}^{\\infty} \\delta(x) \\cdot \\phi \\left(\\frac{x}{a} \\right)dx\\\\\n",
        "&= \\frac{1}{a} \\phi \\left( \\frac{x}{a} \\right) \\Big|_{x = 0}\\\\\n",
        "&=\\frac{1}{a} \\phi(0)\n",
        "\\end{split}\n",
        "\\end{equation*}\n",
        "\n",
        "<p align = \"justify\">Para $a< 0$ sea $x = a\\cdot t$ y $dx = a\\cdot dt$.\n",
        "\n",
        "\\begin{equation*}\n",
        "\\begin{split}\n",
        "\\int_{-\\infty}^{\\infty} \\delta(at)\\cdot \\phi(t) &= \\int_{\\infty}^{-\\infty} \\delta(x) \\cdot \\phi \\left(\\frac{x}{a} \\right)~\\frac{dx}{a}\\\\\n",
        "&= \\frac{1}{|a|} \\int_{-\\infty}^{\\infty} \\delta(x) \\cdot \\phi \\left(\\frac{x}{a} \\right)dx\\\\\n",
        "&= \\frac{1}{|a|} \\phi \\left( \\frac{x}{a} \\right) \\Big|_{x = 0}\\\\\n",
        "&=\\frac{1}{|a|} \\phi(0)\n",
        "\\end{split}\n",
        "\\end{equation*}\n",
        "\n",
        "<p align = \"justify\">En general\n",
        "\n",
        "\\begin{equation}\n",
        "\\int_{-\\infty}^{\\infty} \\delta(at) \\cdot \\phi(t)~dt = \\frac{1}{|a|} \\phi(0)\n",
        "\\end{equation}\n",
        "\n",
        "    \n",
        "<p align = \"justify\">3. <b>Multiplicación</b>\n",
        "\n",
        "\\begin{equation}\n",
        "x(t) \\cdot \\delta(t) = x(0) \\cdot \\delta(t) \\tag{6.16}\n",
        "\\end{equation}\n",
        "\n",
        "<p align = \"justify\">donde $x(t)$ debe ser continua en $t=0$.\n",
        "\n",
        "**Demostración:**\n",
        "\n",
        "\\begin{equation}\n",
        "\\int_{-\\infty}^{\\infty} x(t) \\cdot \\delta(t) \\cdot \\phi(t)~dt = x(0)\\cdot \\phi(0)\n",
        "\\end{equation}\n",
        "\n",
        "<p align = \"justify\">Por definición:\n",
        "\n",
        "\\begin{equation}\n",
        "\\phi(0) = \\int_{-\\infty}^{\\infty} \\delta(t) \\phi(t)~dt\n",
        "\\end{equation}\n",
        "\n",
        "<p align = \"justify\">Por lo tanto:\n",
        "\n",
        "\\begin{equation}\n",
        "\\int_{-\\infty}^{\\infty} x(t) \\cdot \\delta(t) \\cdot \\phi(t)~dt = \\int_{-\\infty}^{\\infty} x(0) \\cdot \\delta(t) \\cdot \\phi(t)~dt\n",
        "\\end{equation}\n",
        "\n",
        "<p align = \"justify\">De donde\n",
        "\n",
        "\\begin{equation}\n",
        "x(0) \\cdot \\delta(t) = x(t) \\cdot \\delta(t)\n",
        "\\end{equation}\n",
        "\n"
      ]
    },
    {
      "cell_type": "markdown",
      "metadata": {
        "id": "gLmeVbNx1uYp"
      },
      "source": [
        "<p align = \"justify\"><b><h4>Ejemplo 6.2: <h4\\></b> Calcular: $t\\cdot \\delta(t)$.\n",
        "\n",
        "**Desarrollo**\n",
        "\\begin{equation}\n",
        "t \\cdot \\delta(t) = 0\\cdot \\delta(t) = 0\n",
        "\\end{equation}"
      ]
    },
    {
      "cell_type": "markdown",
      "metadata": {
        "id": "t6tVO8b42KET"
      },
      "source": [
        "<p align = \"justify\"><b><h4>Ejemplo 6.3: <h4\\></b>Demostrar que $\\delta(at) = \\frac{1}{|a|}\\cdot \\delta(t)$.\n",
        "\n",
        "**Desarrollo**\n",
        "\n",
        "\\begin{equation}\n",
        "\\int_{-\\infty}^{\\infty} \\delta(at)\\cdot \\phi(t)~dt = \\frac{1}{|a|}\\phi(0)\n",
        "\\end{equation}\n",
        "\n",
        "<p align = \"justify\">Por definición:\n",
        "\n",
        "\\begin{equation}\n",
        "\\phi(0) = \\int_{-\\infty}^{\\infty} \\delta(t) \\phi(t)~dt\n",
        "\\end{equation}\n",
        "\n",
        "<p align = \"justify\">Por lo tanto:\n",
        "\n",
        "\\begin{equation}\n",
        "\\int_{-\\infty}^{\\infty} \\delta(at)\\cdot \\phi(t)~dt = \\int_{-\\infty}^{\\infty} \\frac{1}{|a|} \\delta(t)\\cdot \\phi(t)~dt\n",
        "\\end{equation}\n",
        "\n",
        "<p align = \"justify\">De donde:\n",
        "\n",
        "\\begin{equation}\n",
        "\\delta(at)=\\frac{1}{|a|} \\delta(t)\n",
        "\\end{equation}"
      ]
    },
    {
      "cell_type": "markdown",
      "metadata": {
        "id": "Uz_cWzDF34AS"
      },
      "source": [
        "<p align = \"justify\"><b><h4>Ejemplo 6.4: <h4\\></b>Demostrar que un impulso unitario es una función par.\n",
        "\n",
        "**Desarrollo**\n",
        "\n",
        "<p align = \"justify\">Evaluando la expresión $\\delta(at)=\\frac{1}{|a|} \\delta(t)$ para $a=-1$, se obtiene $\\delta(-t)= \\delta(t)$. Por lo tanto, $\\delta(t)$ es una función par."
      ]
    },
    {
      "cell_type": "markdown",
      "metadata": {
        "id": "Xtfd2xlp1hfH"
      },
      "source": [
        "<p align = \"justify\">4. <b>Derivación</b>\n",
        "\n",
        "\\begin{equation}\n",
        "\\int_{-\\infty}^{\\infty} \\frac{d}{dt}\\delta(t) \\cdot x(t) \\; dt = - \\frac{d}{dt}x(t) \\bigg\\vert_{t = 0} \\tag{6.17}\n",
        "\\end{equation}\n",
        "\n",
        "**Demostración:**\n",
        "\n",
        "<p align = \"justify\">Para demostrar esta propiedad observemos el siguiente ejercicio.\n",
        "\n",
        "\\begin{equation*}\n",
        "\\begin{split}\n",
        "\\int_{-\\infty}^{\\infty} \\frac{d}{dt}f(t)\\cdot \\phi(t)dt\\\\\n",
        "u = \\phi(t), ~ du = \\frac{d}{dt}\\phi(t)~dt\\\\\n",
        "dv = \\frac{d}{dt}f(t)~dt, ~ v = f(t)\\\\\n",
        "\\int_{-\\infty}^{\\infty} \\frac{d}{dt}f(t)\\cdot \\phi(t)dt=\\phi(t)\\cdot f(t) \\bigg\\vert_{-\\infty}^{\\infty} - \\int_{-\\infty}^{\\infty} f(t)\\cdot \\frac{d}{dt}\\phi(t)dt\n",
        "\\end{split}\n",
        "\\end{equation*}\n",
        "\n",
        "<p align = \"justify\">Como $\\lim_{t \\to \\pm \\infty} \\phi(t) = 0$.\n",
        "\n",
        "\\begin{equation}\n",
        "\\int_{-\\infty}^{\\infty} \\frac{d}{dt}f(t) \\cdot \\phi(t)~dt = - \\int_{-\\infty}^{\\infty} f(t)\\cdot \\frac{d}{dt}\\phi(t)~dt \\tag{6.18}\n",
        "\\end{equation}\n",
        "\n",
        "\n",
        "<p align = \"justify\">Apartir de esta igualdad evaluamos la derivada de la función impulso $\\delta(t)$ así:\n",
        "\n",
        "\\begin{equation*}\n",
        "\\begin{split}\n",
        "\\int_{-\\infty}^{\\infty} \\frac{d}{dt}\\delta(t)\\cdot \\phi(t)dt &= - \\int_{-\\infty}^{\\infty} \\delta(t)\\cdot \\frac{d}{dt}\\phi(t)dt\\\\\n",
        "&= -\\frac{d}{dt}\\phi(t) \\bigg\\vert_{t=0}\n",
        "\\end{split}\n",
        "\\end{equation*}\n",
        "\n",
        "<p align = \"justify\">Finalmente\n",
        "\n",
        "\\begin{equation}\n",
        "\\int_{-\\infty}^{\\infty} \\frac{d}{dt}\\delta(t) \\cdot \\phi(t)dt = = -\\frac{d}{dt}\\phi(t) \\bigg\\vert_{t=0}\n",
        "\\end{equation}\n",
        "\n",
        "<p align = \"justify\">5. <b>Linealidad</b>\n",
        "\n",
        "\\begin{equation}\n",
        "a \\cdot \\delta(t) + b \\cdot \\delta(t) = (a+b) \\cdot \\delta(t)\n",
        "\\end{equation}\n",
        "    \n",
        "<p align = \"justify\">Es importante notar que el producto de $\\delta(t) \\cdot \\delta(t)$ dos impulsos de Dirac no está definido."
      ]
    },
    {
      "cell_type": "markdown",
      "metadata": {
        "id": "1EF3FGiJH99F"
      },
      "source": [
        "<p align = \"justify\"><b><h4>Ejemplo 6.5: <h4\\></b> Este ejemplo ilustra algunas propiedades básicas del impulso de Dirac. Primero definamos un impulso de Dirac:"
      ]
    },
    {
      "cell_type": "markdown",
      "metadata": {
        "id": "l3n_q9c8PXGn"
      },
      "source": [
        "Código 6.5: delclara la funcón delta de Dirac."
      ]
    },
    {
      "cell_type": "code",
      "metadata": {
        "id": "gQK3NCUQH99G",
        "colab": {
          "base_uri": "https://localhost:8080/",
          "height": 38
        },
        "outputId": "3870722b-8499-4cf4-cc6d-fed91a1a2a5f"
      },
      "source": [
        "delta = DiracDelta(t)\n",
        "display(delta)"
      ],
      "execution_count": 6,
      "outputs": [
        {
          "output_type": "display_data",
          "data": {
            "text/plain": [
              "δ(t)"
            ],
            "text/latex": "$\\displaystyle \\delta\\left(t\\right)$"
          },
          "metadata": {}
        }
      ]
    },
    {
      "cell_type": "markdown",
      "metadata": {
        "id": "zCFGZ1-SH99I"
      },
      "source": [
        "<p align = \"justify\">Ahora probemos la propiedad de selectividad definiendo una señal arbitraria (función) $f(t)$ e integrando su producto con el impulso Delta."
      ]
    },
    {
      "cell_type": "markdown",
      "metadata": {
        "id": "7mvhFPuoPsEg"
      },
      "source": [
        "Código 6.6: aplica la propiedad de selectividad."
      ]
    },
    {
      "cell_type": "code",
      "metadata": {
        "id": "taYi12mgH99I",
        "colab": {
          "base_uri": "https://localhost:8080/",
          "height": 99
        },
        "outputId": "2b668b10-2c11-4a2d-8221-b540c7fc5303"
      },
      "source": [
        "f = Function('f')(t)\n",
        "expr = Integral(delta*f, (t, -oo, oo))\n",
        "display(expr)\n",
        "display(expr.doit())"
      ],
      "execution_count": 7,
      "outputs": [
        {
          "output_type": "display_data",
          "data": {
            "text/plain": [
              "∞              \n",
              "⌠              \n",
              "⎮  f(t)⋅δ(t) dt\n",
              "⌡              \n",
              "-∞             "
            ],
            "text/latex": "$\\displaystyle \\int\\limits_{-\\infty}^{\\infty} f{\\left(t \\right)} \\delta\\left(t\\right)\\, dt$"
          },
          "metadata": {}
        },
        {
          "output_type": "display_data",
          "data": {
            "text/plain": [
              "f(0)"
            ],
            "text/latex": "$\\displaystyle f{\\left(0 \\right)}$"
          },
          "metadata": {}
        }
      ]
    },
    {
      "cell_type": "markdown",
      "metadata": {
        "id": "3dhcuwQuOAKl"
      },
      "source": [
        "<p align = \"justify\">Ahora probemos la propiedad de escalamiento."
      ]
    },
    {
      "cell_type": "markdown",
      "metadata": {
        "id": "w-pkRsQ-QEMa"
      },
      "source": [
        "Código 6.7: aplica la propiedad de escalamiento."
      ]
    },
    {
      "cell_type": "code",
      "metadata": {
        "colab": {
          "base_uri": "https://localhost:8080/",
          "height": 118
        },
        "id": "lBKpJaLQMQmv",
        "outputId": "b8a280db-ecb2-4357-9b67-a703007a39bc"
      },
      "source": [
        "a = symbols('a')\n",
        "expr = Integral(delta.subs(t, a*t)*f, (t, -oo, oo))\n",
        "display(expr)\n",
        "display(expr.doit())"
      ],
      "execution_count": 8,
      "outputs": [
        {
          "output_type": "display_data",
          "data": {
            "text/plain": [
              "∞                \n",
              "⌠                \n",
              "⎮  f(t)⋅δ(a⋅t) dt\n",
              "⌡                \n",
              "-∞               "
            ],
            "text/latex": "$\\displaystyle \\int\\limits_{-\\infty}^{\\infty} f{\\left(t \\right)} \\delta\\left(a t\\right)\\, dt$"
          },
          "metadata": {}
        },
        {
          "output_type": "display_data",
          "data": {
            "text/plain": [
              "f(0)\n",
              "────\n",
              "│a│ "
            ],
            "text/latex": "$\\displaystyle \\frac{f{\\left(0 \\right)}}{\\left|{a}\\right|}$"
          },
          "metadata": {}
        }
      ]
    },
    {
      "cell_type": "markdown",
      "metadata": {
        "id": "DlyMSYmMLES9"
      },
      "source": [
        "![descarga (16).png](data:image/png;base64,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)"
      ]
    },
    {
      "cell_type": "markdown",
      "metadata": {
        "id": "gRFBVgZ2OSi0"
      },
      "source": [
        "<p align = \"center\"><b>Figura 6.1. </b> Función delta de Dirac"
      ]
    },
    {
      "cell_type": "markdown",
      "metadata": {
        "id": "0ln0HzBAH99L"
      },
      "source": [
        "### **6.1.3. Señal Heaviside - Función escalón**\n",
        "\n",
        "<p align = \"justify\">La función escalón o <a href = \"https://en.wikipedia.org/wiki/Heaviside_step_function\"> Heaviside</a> se define como:\n",
        "\n",
        "\\begin{equation}\n",
        "\\mu(t) = \\begin{cases} 0 & t< 0  \\\\ 1 & t \\geq 0 \\end{cases} \\tag{6.19}\n",
        "\\end{equation}\n",
        "\n",
        "<p align = \"justify\">Para el caso discreto, la función escalón se define de la siguiente manera:\n",
        "\n",
        "\\begin{equation}\n",
        "\\mu(n) = \\begin{cases} 0 & n< 0  \\\\ 1 & n \\geq 0 \\end{cases} \\tag{6.20}\n",
        "\\end{equation}\n",
        "\n",
        "<p align = \"justify\">Algunas definiciones alternativas existen con respecto al valor de $\\mu(t)$ en $t=0$. La función Heaviside se usa para representar un cambio o interruptor en un punto específico del tiempo y se mantiene encendido de forma indefinida. La función escalón y delta se relacionan mediante la siguiente expresión:\n",
        "\n",
        "\\begin{equation}\n",
        "\\int_{-\\infty}^{t} \\delta(\\tau) \\; d\\tau = \\mu(t) \\tag{6.21}\n",
        "\\end{equation}\n",
        "\n",
        "**Demostración:**\n",
        "\n",
        "\\begin{equation}\n",
        "\\int_{-\\infty}^{\\infty} \\frac{d}{dt}\\mu(t)\\cdot \\phi(t)~dt = - \\int_{-\\infty}^{\\infty} \\mu(t)\\cdot \\frac{d}{dt}\\phi(t)~dt\\\\\n",
        "\\int_{-\\infty}^{\\infty} \\frac{d}{dt}\\mu(t)\\cdot \\phi(t)~dt = -\\int_{0}^{\\infty} \\frac{d}{dt} \\phi(t)~dt\\\\\n",
        "\\int_{-\\infty}^{\\infty} \\frac{d}{dt}\\mu(t)\\cdot \\phi(t)~dt = -\\phi(t) \\bigg\\vert_0^{\\infty}\\\\\n",
        "\\int_{-\\infty}^{\\infty} \\frac{d}{dt}\\mu(t)\\cdot \\phi(t)~dt = \\phi(0)\\\\\n",
        "\\int_{-\\infty}^{\\infty} \\frac{d}{dt}\\mu(t)\\cdot \\phi(t)~dt = \\int_{-\\infty}^{\\infty}\\delta(t)\\cdot\\phi(t)~dt\n",
        "\\end{equation}\n",
        "\n",
        "<p align = \"justify\">Por lo tanto:\n",
        "\n",
        "\\begin{equation}\n",
        "\\frac{d}{dt}\\mu(t) = \\delta(t) \\tag{6.22}\n",
        "\\end{equation}\n",
        "\n",
        "\\begin{equation}\n",
        "\\mu(t) = \\int_{-\\infty}^{t} \\delta(\\tau) \\; d\\tau\n",
        "\\end{equation}"
      ]
    },
    {
      "cell_type": "markdown",
      "metadata": {
        "id": "wgKh_M-jH99L"
      },
      "source": [
        "<p align = \"justify\"><b><h4>Ejemplo 6.6: <h4\\></b>A continuación una señal Heaviside $\\mu(t)$ se define y SymPy. Note que <i>SymPy</i> denota la función Heaviside como $\\theta(t)$."
      ]
    },
    {
      "cell_type": "markdown",
      "metadata": {
        "id": "lnRrkUy4V_j_"
      },
      "source": [
        "Código 6.8: delcara la función Heaviside."
      ]
    },
    {
      "cell_type": "code",
      "metadata": {
        "id": "TPxnkb8uH99M",
        "colab": {
          "base_uri": "https://localhost:8080/",
          "height": 38
        },
        "outputId": "97abdb95-dbff-4bd8-a6a5-d024a06cecf8"
      },
      "source": [
        "step = Heaviside(t)                                                             #Se declara la función Heaviside\n",
        "step"
      ],
      "execution_count": 9,
      "outputs": [
        {
          "output_type": "execute_result",
          "data": {
            "text/plain": [
              "θ(t)"
            ],
            "text/latex": "$\\displaystyle \\theta\\left(t\\right)$"
          },
          "metadata": {},
          "execution_count": 9
        }
      ]
    },
    {
      "cell_type": "markdown",
      "metadata": {
        "id": "30XE2rBUWFk1"
      },
      "source": [
        "Código 6.9: gráfica la función Heaviside."
      ]
    },
    {
      "cell_type": "code",
      "metadata": {
        "id": "7sQg89GKH99O",
        "colab": {
          "base_uri": "https://localhost:8080/",
          "height": 674
        },
        "outputId": "e736405d-356c-4982-f115-889ad695ebf9"
      },
      "source": [
        "p = plot(step, (t, -2, 2), ylabel=r'$\\mu(t)$')                                  #Se crea la grafica"
      ],
      "execution_count": 10,
      "outputs": [
        {
          "output_type": "display_data",
          "data": {
            "text/plain": [
              "<Figure size 1500x800 with 1 Axes>"
            ],
            "image/png": "[encoded data removed]"
          },
          "metadata": {}
        }
      ]
    },
    {
      "cell_type": "markdown",
      "metadata": {
        "id": "MLq0pP_8WRKq"
      },
      "source": [
        "<p align = \"center\"><b>Tablero 6.4. </b> Función Heaviside"
      ]
    },
    {
      "cell_type": "markdown",
      "metadata": {
        "id": "FUprw-PAH99R"
      },
      "source": [
        "<p align = \"justify\">Ahora se construye un armónico (señal coseno o seno) $\\cos(\\omega t)$ con $\\omega=2$, la cual se enciende en $t=0$:\n",
        "\n",
        "\\begin{equation}\n",
        "x(t) = \\cos(\\omega t) \\cdot \\mu(t)\n",
        "\\end{equation}"
      ]
    },
    {
      "cell_type": "markdown",
      "metadata": {
        "id": "TOburNZpXBQ7"
      },
      "source": [
        "Código 6.10: genera la función Heaviside con un armónico."
      ]
    },
    {
      "cell_type": "code",
      "metadata": {
        "id": "4csodwpTH99R"
      },
      "source": [
        "x = cos(Omega*t) * step                                                         #Se declara la función\n",
        "p = plot(x.subs(Omega,2), (t, -2, 10), ylim=[-1.2, 1.2], ylabel=r'$x(t)$')      #Se realiza la grafica"
      ],
      "execution_count": null,
      "outputs": []
    },
    {
      "cell_type": "markdown",
      "metadata": {
        "id": "mxEssPAoWyv1"
      },
      "source": [
        "<p align = \"center\"><b>Tablero 6.5. </b> Función Heaviside con armónico"
      ]
    },
    {
      "cell_type": "markdown",
      "metadata": {
        "id": "uogjxRf2H99T"
      },
      "source": [
        "### **6.1.4. Señal pulso rectangular**\n",
        "\n",
        "<p align = \"justify\">La función <a href = \"https://en.wikipedia.org/wiki/Rectangular_function\">pulso rectangular</a> se define como:\n",
        "\n",
        "\\begin{equation}\n",
        "\\text{rect}_d(t) = d \\cdot E_d(t) = \\begin{cases} 1 & |t| \\leq \\frac{d}{2} \\\\ 0 & |t| > \\frac{d}{2} \\end{cases} \\tag{6.23}\n",
        "\\end{equation}\n",
        "\n",
        "<p align = \"justify\">Para el caso discreto, la función pulso rectangular se define de la siguiente manera:\n",
        "\n",
        "\\begin{equation}\n",
        "\\text{rect}_M(n) = \\begin{cases} 1 & |n| \\leq M \\\\ 0 & |n| > M \\end{cases} \\tag{6.24}\n",
        "\\end{equation}\n",
        "\n",
        "<p align = \"justify\">Con $M \\in \\mathbb{Z}$.\n",
        "\n",
        "<p align = \"justify\">Algunas definiciones alternativas existen difiriendo del valor de $\\text{rect}_d(t)$ para $t = \\pm \\frac{d}{2}$. La señal pulso rectangular se utiliza para representar un encendido por un intervalo limitado de tiempo o de duración finita, y se relaciona con la función Heaviside así:\n",
        "\n",
        "\\begin{equation}\n",
        "\\text{rect}_d(t) = \\mu \\left(t + \\frac{d}{2} \\right) - \\mu \\left(t - \\frac{d}{2} \\right) \\tag{6.25}\n",
        "\\end{equation}"
      ]
    },
    {
      "cell_type": "markdown",
      "metadata": {
        "id": "iNbXUeaNH99U"
      },
      "source": [
        "<p align = \"justify\"><b><h4>Ejemplo 6.7: <h4\\></b>A continuación se define la función pulso rectangular de ancho $d=1$ desde el escalón en <i>SymPy</i>:"
      ]
    },
    {
      "cell_type": "markdown",
      "metadata": {
        "id": "l_8XKVuKcTIa"
      },
      "source": [
        "Código 6.11: declara y gráfica la función $rect_1(t)$."
      ]
    },
    {
      "cell_type": "code",
      "metadata": {
        "id": "aQoE3Xh8H99U"
      },
      "source": [
        "rect = Heaviside(t+.5) - Heaviside(t-.5)                                        #Se declara la función rect\n",
        "p = plot(rect, (t, -1, 1), ylabel=r'rect$(t)$')"
      ],
      "execution_count": null,
      "outputs": []
    },
    {
      "cell_type": "markdown",
      "metadata": {
        "id": "XhiWhZtxcdzx"
      },
      "source": [
        "<p align = \"center\"><b>Tablero 6.6. </b> Función $rect_1(t)$"
      ]
    },
    {
      "cell_type": "markdown",
      "metadata": {
        "id": "h3VbmFVOH99Y"
      },
      "source": [
        "<p align = \"justify\"><b><h4>Ejemplo 6.8: <h4\\></b>Use la función $\\text{rect}_d(t)$ para construir una función $\\cos(\\omega t)$ con $\\omega=5$, la cual se enciende en $t=-\\frac{1}{2}$ y se apaga en $t=+\\frac{1}{2}$."
      ]
    },
    {
      "cell_type": "markdown",
      "metadata": {
        "id": "URzRlbKIdfOW"
      },
      "source": [
        "Código 6.12: declara y gráfica la función $rect_1(t)$ con armónico."
      ]
    },
    {
      "cell_type": "code",
      "metadata": {
        "id": "h6enUxNQubJe"
      },
      "source": [
        "x = rect * cos(5*t)\n",
        "p = plot(x, (t, -1, 1), ylim=[-1.2, 1.2], ylabel=r'$x(t)$')"
      ],
      "execution_count": null,
      "outputs": []
    },
    {
      "cell_type": "markdown",
      "metadata": {
        "id": "y6uFQng3dkH2"
      },
      "source": [
        "<p align = \"center\"><b>Tablero 6.7. </b> Función $rect_1(t)$ con armónico"
      ]
    },
    {
      "cell_type": "markdown",
      "metadata": {
        "id": "rJ_NZ3lKH99Z"
      },
      "source": [
        "### **6.1.5. Función signo**\n",
        "\n",
        "<p align = \"justify\">La función <a href = \"https://en.wikipedia.org/wiki/Sign_function\">signo/signum function</a> evalúa el signo de su argumento:\n",
        "\n",
        "\\begin{equation}\n",
        "\\text{sgn}(t) = \\begin{cases} 1 & t>0 \\\\ 0 & t=0 \\\\ -1 & t < 0  \\end{cases} \\tag{6.26}\n",
        "\\end{equation}\n",
        "\n",
        "<p align = \"justify\">Para el caso discreto, la función signo se define de la siguiente manera:\n",
        "\n",
        "\\begin{equation}\n",
        "\\text{sgn}(n) = \\begin{cases} 1 & n>0 \\\\ 0 & n=0 \\\\ -1 & n < 0  \\end{cases} \\tag{6.27}\n",
        "\\end{equation}\n",
        "\n",
        "<p align = \"justify\">La señal <i>sgn</i> es útil para representar el valor absoluto de una señal real $x(t) \\in \\mathbb{R}$ como:\n",
        "\n",
        "\\begin{equation}\n",
        "|x(t)| = x(t) \\cdot \\text{sgn}(x(t)) \\tag{5.28}\n",
        "\\end{equation}\n",
        "\n",
        "<p align = \"justify\">y se relaciona con la señal Heaviside como:\n",
        "\n",
        "\\begin{equation}\n",
        "\\text{sgn}(t) = 2 \\cdot \\mu(t) - 1 \\tag{6.29}\n",
        "\\end{equation}"
      ]
    },
    {
      "cell_type": "markdown",
      "metadata": {
        "id": "fBvtiATkH99Z"
      },
      "source": [
        "<p align = \"justify\"><b><h4>Ejemplo 6.9: <h4\\></b>El siguiente ejemplo ilustra la función $\\text{sgn}(t)$. Note que la función sign se representa como $\\text{sign}(t)$ en <i>Sympy</i>."
      ]
    },
    {
      "cell_type": "markdown",
      "metadata": {
        "id": "WSFLrPf2f_eY"
      },
      "source": [
        "Código 6.13: declara la función signo."
      ]
    },
    {
      "cell_type": "code",
      "metadata": {
        "id": "m0jdlgEMH99a"
      },
      "source": [
        "sgn = sign(t)                                                                   #Se declara la función signo\n",
        "sgn"
      ],
      "execution_count": null,
      "outputs": []
    },
    {
      "cell_type": "markdown",
      "metadata": {
        "id": "rH0mmhU2gAqY"
      },
      "source": [
        "Código 6.14: gráfica la función signo."
      ]
    },
    {
      "cell_type": "code",
      "metadata": {
        "id": "GswrPL09H99c"
      },
      "source": [
        "p = plot(sgn, (t, -2, 2), ylim=[-1.2, 1.2], ylabel=r'sgn$(t)$')"
      ],
      "execution_count": null,
      "outputs": []
    },
    {
      "cell_type": "markdown",
      "metadata": {
        "id": "1cloiJqggV9P"
      },
      "source": [
        "<p align = \"center\"><b>Tablero 6.8. </b> Función singo"
      ]
    },
    {
      "cell_type": "markdown",
      "metadata": {
        "id": "m0WPYwLMH99e"
      },
      "source": [
        "<p align = \"justify\"><b><h4>Ejemplo 6.10: <h4\\></b>Genere un rectificador de onda completa utilizando la función $\\text{sgn}(t)$."
      ]
    },
    {
      "cell_type": "markdown",
      "metadata": {
        "id": "RlkXzXychos5"
      },
      "source": [
        "Código 6.15: grafica rectificador de onda completa."
      ]
    },
    {
      "cell_type": "code",
      "metadata": {
        "id": "LDIL1-pXg_vI"
      },
      "source": [
        "x = cos(Omega*t)*sgn.subs(t, cos(Omega*t))                                      #Se declara la función\n",
        "p = plot(x.subs(Omega,5), (t, -1, 1), ylabel=r'$x(t)$')"
      ],
      "execution_count": null,
      "outputs": []
    },
    {
      "cell_type": "markdown",
      "metadata": {
        "id": "N3Rl5PODhvGN"
      },
      "source": [
        "<p align = \"center\"><b>Tablero 6.9. </b> Rectificador de onda completa"
      ]
    },
    {
      "cell_type": "markdown",
      "metadata": {
        "id": "L7VElC3YjD33"
      },
      "source": [
        "## **Ejercicios propuestos**"
      ]
    },
    {
      "cell_type": "markdown",
      "metadata": {
        "id": "YWGJl_1LjE_L"
      },
      "source": [
        "<p align = \"justify\"><b>Ejercicio 6.1. </b>Derivar la propiedad de selectividad, para un impulso de Dirac desplazado $\\delta(t-\\tau)$.\n",
        "\n",
        "<p align = \"justify\"><b>Ejercicio 6.2. </b>Demostrar la simetría de la función $\\delta(t)$.\n",
        "\n",
        "<p align = \"justify\"><b>Ejercicio 6.3. </b>Pruebe otros valores <i>omega</i> y <i>sigma</i> para crear señales exponenciales complejas con amplitud creciente/decreciente/constante y diferentes frecuencias angulares.\n",
        "\n",
        "<p align = \"justify\"><b>Ejercicio 6.3. </b>Utilizando utilizando el módulo de phyton <i>SimPy</i>, cree un algoritmo para dibujar el correspondiente diagrama de polos y ceros de una función exponencial compleja."
      ]
    },
    {
      "cell_type": "markdown",
      "metadata": {
        "nbsphinx": "hidden",
        "id": "dEAg1WcNH99e"
      },
      "source": [
        "**Copyright**\n",
        "\n",
        "The notebook is provided as [Open Educational Resource](https://de.wikipedia.org/wiki/Open_Educational_Resources). Feel free to use the notebook for your own educational purposes. The text is licensed under [Creative Commons Attribution 4.0](https://creativecommons.org/licenses/by/4.0/), the code of the IPython examples under the [MIT license](https://opensource.org/licenses/MIT). Please attribute the work as follows: *Signals and Systems* by Sascha Spors."
      ]
    }
  ]
}