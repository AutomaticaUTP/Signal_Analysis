{
  "nbformat": 4,
  "nbformat_minor": 0,
  "metadata": {
    "colab": {
      "provenance": []
    },
    "kernelspec": {
      "name": "python3",
      "display_name": "Python 3"
    }
  },
  "cells": [
    {
      "cell_type": "markdown",
      "metadata": {
        "id": "BXiW_-MsgJvt"
      },
      "source": [
        "#Representación de señales Parte I\n",
        "\n",
        "## Similitud entre vectores y señales\n",
        "\n",
        "Las señales y los vectores son entidades parecidas en tanto que comparten un análisis matemático similar.\n",
        "\n",
        "Para comparalos analizaremos inicialemte las propiedades de los vectores.\n",
        "\n",
        "Un vector se determina mediate su magnitud y su ángulo.\n",
        "\n",
        "Si $\\mathbf{A}$ es un vector en un espacio bidimencional:"
      ]
    },
    {
      "cell_type": "code",
      "metadata": {
        "id": "El4XR-XxFxky",
        "outputId": "e2f98319-8471-4cfd-c91b-718957dc14c7",
        "colab": {
          "base_uri": "https://localhost:8080/",
          "height": 248
        }
      },
      "source": [
        "import matplotlib.pyplot as plt\n",
        "\n",
        "def vector(coor=[1, 2], color=\"blue\", nombre=r'$A$', orig=[0, 0], txcr=None):\n",
        "    ax.quiver(*orig, *coor, angles='xy', scale_units='xy', scale=1, color=color)\n",
        "    ax.text(*coor, nombre, fontsize=15) if not txcr else ax.text(*txcr, nombre, fontsize=15)\n",
        "\n",
        "fig, ax = plt.subplots(1)\n",
        "vector()\n",
        "vector([2.5, 0], \"green\", r'$B$')\n",
        "ax.axhline(0, color='gray')\n",
        "ax.axvline(0, color='gray')\n",
        "ax.set_xlim([-.5, 3])\n",
        "ax.set_ylim(ax.get_xlim())\n",
        "ax.axis(\"off\")\n",
        "fig.show()"
      ],
      "execution_count": null,
      "outputs": [
        {
          "output_type": "display_data",
          "data": {
            "image/png": "[encoded data removed]",
            "text/plain": [
              "<Figure size 432x288 with 1 Axes>"
            ]
          },
          "metadata": {
            "tags": [],
            "needs_background": "light"
          }
        }
      ]
    },
    {
      "cell_type": "markdown",
      "metadata": {
        "id": "HyTeIPvKqKXU"
      },
      "source": [
        "Y quisieramos representar al vector $\\mathbf{A}$ en función del vector $\\mathbf{B}$, entonces existirán infinitas soluciones como se muestra en el gráfico."
      ]
    },
    {
      "cell_type": "code",
      "metadata": {
        "id": "UcrtKlz8qtYS",
        "outputId": "791d1aaf-6b1b-4d30-edea-c162a7bb6b39",
        "colab": {
          "base_uri": "https://localhost:8080/",
          "height": 248
        }
      },
      "source": [
        "C = [0.5, 1, 1.5, 2]; E = [0.5, 0, -0.5, -1]\n",
        "for i, j in enumerate(zip(C, E)):\n",
        "    vector([j[0], 0], color=\"red\", nombre=r'$C_{}$'.format(i+1))\n",
        "    vector([j[1], 2], color=\"orange\", nombre=r'$E_{}$'.format(i+1),\n",
        "           orig=[j[0], 0], txcr=[j[0]-.2, 0.5])\n",
        "fig"
      ],
      "execution_count": null,
      "outputs": [
        {
          "output_type": "execute_result",
          "data": {
            "image/png": "[encoded data removed]",
            "text/plain": [
              "<Figure size 432x288 with 1 Axes>"
            ]
          },
          "metadata": {
            "tags": []
          },
          "execution_count": 4
        }
      ]
    },
    {
      "cell_type": "markdown",
      "metadata": {
        "id": "a1pPVQub6GKy"
      },
      "source": [
        "Donde\n",
        "\n",
        "$$\n",
        "\\mathbf{A} = C_1\\mathbf{B} + \\mathbf{E_1}\\\\ \\mathbf{A} = C_2\\mathbf{B} + \\mathbf{E_2}\\\\ \\mathbf{A} = C_3\\mathbf{B} + \\mathbf{E_3}\\\\ \\mathbf{A} = C_4\\mathbf{B} + \\mathbf{E_4}\\\\\n",
        ".\\\\ .\\\\ .\n",
        "$$\n",
        "\n",
        "El problema es encintrar la mejor solución.\n",
        "\n",
        "Para nosotros, la mejor solución es aquella que contenga geométricamente el menor error, es decir:\n",
        "\n",
        "$$\n",
        "\\mathbf{A} = C_2\\mathbf{B} + \\mathbf{E_2}\n",
        "$$\n",
        "\n",
        "Donde $E_2$ representará el vector de error o error en la aproximación de $\\mathbb{A}$ a $\\mathbf{B}$.\n",
        "\n",
        "Ahora, ya podemos formular de forma cuantitativa la representación de un vextor sobre otro.\n",
        "\n",
        "La componente del vector $\\mathbf{A}$ sobre $\\mathbf{B}$ esta dada por $C_2 \\mathbf{B}$, en donde $C_2$ se escoge de tal forma que el error sea mínimo.\n",
        "\n",
        "La representación de un vector $\\mathbf{B}$ en función de otro se da, en tanto que es más dificil el análisis de $\\mathbf{A}$ que el del propio vector $\\mathbf{B}$. Nótese que $\\mathbf{B}$ es un vector a $ 0^o$ de fácil análisis.\n",
        "\n",
        "Ahora recordaremos el producto escalar de $\\mathbf{A}$ y $\\mathbf{B}$ como:\n",
        "\n",
        "$$\n",
        "\\langle \\mathbf{A}, \\mathbf{B} \\rangle = ABCos(\\theta)\n",
        "$$\n",
        "\n",
        "Donde $\\theta$ es el ángulo que forman $\\mathbf{A}$ y $\\mathbf{B}$ y se cumple que:\n",
        "\n",
        "$$\n",
        "\\langle \\mathbf{A}, \\mathbf{B} \\rangle =\\langle \\mathbf{B}, \\mathbf{A} \\rangle\n",
        "$$\n",
        "\n",
        "La componente de $\\mathbf{A}$ a lo largo de $\\mathbf{B}$ es igual a:\n",
        "\n",
        "$$\n",
        "ACos(\\theta) =\n",
        "BC_2\n",
        "$$"
      ]
    },
    {
      "cell_type": "code",
      "metadata": {
        "id": "_AL3Smha6n1f",
        "outputId": "e27968f3-6b6c-4365-eadf-cfc7299306cf",
        "colab": {
          "base_uri": "https://localhost:8080/",
          "height": 248
        }
      },
      "source": [
        "ax.clear()\n",
        "vector()\n",
        "vector([2.5, 0], \"green\", r'$B$')\n",
        "vector([1, 0], color=\"red\", nombre=r'$C_2$')\n",
        "vector([0, 2], color=\"orange\", nombre=r'$E_2$', orig=[1, 0], txcr=[1-.2, 0.5])\n",
        "ax.axhline(0, color='gray')\n",
        "ax.axvline(0, color='gray')\n",
        "ax.set_xlim([-.5, 3])\n",
        "ax.set_ylim(ax.get_xlim())\n",
        "ax.axis(\"off\")\n",
        "fig"
      ],
      "execution_count": null,
      "outputs": [
        {
          "output_type": "execute_result",
          "data": {
            "image/png": "[encoded data removed]",
            "text/plain": [
              "<Figure size 432x288 with 1 Axes>"
            ]
          },
          "metadata": {
            "tags": []
          },
          "execution_count": 5
        }
      ]
    },
    {
      "cell_type": "markdown",
      "metadata": {
        "id": "SX1ACzZr8DTY"
      },
      "source": [
        "$$\n",
        "ACos(\\theta) = BC_2\\\\\n",
        "ACos(\\theta) = \\frac{\\langle \\mathbf{A}, \\mathbf{B} \\rangle}{B}\\\\\n",
        "\\frac{\\langle \\mathbf{A}, \\mathbf{B} \\rangle}{B} = BC_2\\\\\n",
        "C_2 = \\frac{\\langle \\mathbf{A}, \\mathbf{B} \\rangle}{BB}\\\\\n",
        "C_2 = \\frac{\\langle \\mathbf{A}, \\mathbf{B} \\rangle}{\\langle \\mathbf{B}, \\mathbf{B} \\rangle}\n",
        "$$\n",
        "\n",
        "Nótese que si $\\mathbf{A}$ y $\\mathbf{B}$ son ortogonales:"
      ]
    },
    {
      "cell_type": "code",
      "metadata": {
        "id": "-ie_9eq69rU9",
        "outputId": "6538dd94-42b8-4bb1-abb2-c7ff676a9d31",
        "colab": {
          "base_uri": "https://localhost:8080/",
          "height": 248
        }
      },
      "source": [
        "ax.clear()\n",
        "vector([0, 2])\n",
        "vector([2.5, 0], \"green\", r'$B$')\n",
        "ax.annotate(\"Vectores\\nindependientes\", xy=(0.2, 0.2), xycoords='data',\n",
        "                  xytext=(2, 2), textcoords='data', size=20, va=\"center\", ha=\"center\",\n",
        "                  bbox=dict(boxstyle=\"round4\", fc=\"w\"), arrowprops=dict(arrowstyle=\"-|>\",\n",
        "                  connectionstyle=\"arc3,rad=-0.2\", fc=\"w\"))\n",
        "ax.set_xlim([-.5, 3])\n",
        "ax.set_ylim(ax.get_xlim())\n",
        "ax.axis(\"off\")\n",
        "fig"
      ],
      "execution_count": null,
      "outputs": [
        {
          "output_type": "execute_result",
          "data": {
            "image/png": "[encoded data removed]",
            "text/plain": [
              "<Figure size 432x288 with 1 Axes>"
            ]
          },
          "metadata": {
            "tags": []
          },
          "execution_count": 6
        }
      ]
    },
    {
      "cell_type": "markdown",
      "metadata": {
        "id": "SwIMuiAX-r1l"
      },
      "source": [
        "Entonces $C_2$ es igual:\n",
        "\n",
        "$$\n",
        "C_2 = \\frac{|A||B|Cos(90^o)}{|A||B|Cos(0^o)} = 0\n",
        "$$\n",
        "\n",
        "No existe representación de $\\mathbf{A}$ sobre $\\mathbf{B}$, es decir, los vectores son independientes.\n",
        "\n",
        "Consideremos ahora un espacio ortogonal de vectores en tres dimensiones."
      ]
    },
    {
      "cell_type": "code",
      "metadata": {
        "id": "wICC7dGsARPM",
        "outputId": "6f13e146-fe66-46a3-87e5-e04c611f293a",
        "colab": {
          "base_uri": "https://localhost:8080/",
          "height": 575
        }
      },
      "source": [
        "from mpl_toolkits.mplot3d import Axes3D\n",
        "vec = [[0, 0, 0, 1, 0, 0], [0, 0, 0, 0, 1, 0],\n",
        "                [0, 0, 0, 0, 0, 1], [0, 0, 0, 3, 3, 3]]\n",
        "color = ['g', 'g', 'g', 'b']\n",
        "nom = [r\"$a_x$\", r\"$a_y$\", r\"$a_z$\", r\"$A$\"]\n",
        "fig3d = plt.figure(figsize=(10, 10))\n",
        "ax3d = fig3d.add_subplot(111, projection='3d')\n",
        "for i, j, k in zip(vec, color, nom):\n",
        "    ax3d.quiver(*i, color=j, arrow_length_ratio=0.1)\n",
        "    ax3d.text3D(*i[3:], k, fontsize=15)\n",
        "ax3d.text3D(vec[-1][3], 0, 0, r\"$C_x$\", fontsize=20)\n",
        "ax3d.scatter(vec[-1][3], 0, 0, c='k')\n",
        "ax3d.text3D(0, vec[-1][4], 0, r\"$C_y$\", fontsize=20)\n",
        "ax3d.scatter(0, vec[-1][4], 0, c='k')\n",
        "ax3d.text3D(0, 0, vec[-1][5], r\"$C_z$\", fontsize=20)\n",
        "ax3d.scatter(0, 0, vec[-1][5], c='k')\n",
        "ax3d.set_xlim([0, 3.5])\n",
        "ax3d.set_ylim(ax3d.set_xlim())\n",
        "ax3d.set_zlim(ax3d.set_xlim())\n",
        "ax3d.view_init(azim=15, elev=15)\n",
        "fig3d.show()"
      ],
      "execution_count": null,
      "outputs": [
        {
          "output_type": "display_data",
          "data": {
            "image/png": "[encoded data removed]",
            "text/plain": [
              "<Figure size 720x720 with 1 Axes>"
            ]
          },
          "metadata": {
            "tags": [],
            "needs_background": "light"
          }
        }
      ]
    },
    {
      "cell_type": "markdown",
      "metadata": {
        "id": "NSK5MZrrPj7E"
      },
      "source": [
        "Donde el vector $\\mathbf{A}$ es un vector de dificil análisis en un espacio vectorial ortogonal de tres dimensiones $\\mathbf{a_x}$, $\\mathbf{a_y}$, $\\mathbf{a_z}$ de facil análisis.\n",
        "\n",
        "Entonces $\\mathbf{a_x}$, $\\mathbf{a_y}$, $\\mathbf{a_z}$ son vectores unitarios, sobre los ejes $x$, $y$ y $z$ y se desea representar a $\\mathbf{A}$ de la siguiente forma:\n",
        "\n",
        "$$\n",
        "\\mathbf{A} = C_x\\mathbf{a_x} + C_y\\mathbf{a_y} + C_z\\mathbf{a_z}\n",
        "$$\n",
        "\n",
        "Donde $C_x$, $C_y$ y $C_z$ son los pesos que ajustan la representación sobre el espacio vectorial 3D.\n",
        "\n",
        "El espacio vectorial se carateriza por:\n",
        "\n",
        "$$\n",
        "\\langle \\mathbf{a_x}, \\mathbf{a_y}\\rangle = \\langle \\mathbf{a_y}, \\mathbf{a_z}\\rangle = \\langle \\mathbf{a_z}, \\mathbf{a_x}\\rangle = 0\n",
        "\\\\\n",
        "\\langle \\mathbf{a_x}, \\mathbf{a_x}\\rangle = \\langle \\mathbf{a_y}, \\mathbf{a_y}\\rangle = \\langle \\mathbf{a_z}, \\mathbf{a_z}\\rangle = 1\n",
        "$$\n",
        "\n",
        "Donde las incognitas son los pesos $C_x$, $C_y$ y $C_z$. Por lo tanto si $\\mathbf{A} = C_x\\mathbf{a_x} + C_y\\mathbf{a_y} + C_z\\mathbf{a_z} $ y aplicamos el producto punto con relación al vector unitario donde deseamos obtener su correspondiente peso, obtendremos para $C_x$ la siguiente expresión:\n",
        "\n",
        "$$\n",
        "\\langle \\mathbf{A}, \\mathbf{a_x} \\rangle = \\langle (C_x\\mathbf{a_x} + C_y\\mathbf{a_y} + C_z\\mathbf{a_z}), \\mathbf{a_x} \\rangle\\\\\n",
        "\\langle \\mathbf{A}, \\mathbf{a_x} \\rangle = \\langle C_x\\mathbf{a_x}, \\mathbf{a_x} \\rangle + \\langle C_y\\mathbf{a_y}, \\mathbf{a_x} \\rangle + \\langle C_z\\mathbf{a_z}, \\mathbf{a_x} \\rangle\\\\\n",
        "\\langle \\mathbf{A}, \\mathbf{a_x} \\rangle = C_x\\langle \\mathbf{a_x}, \\mathbf{a_x} \\rangle + C_y\\langle \\mathbf{a_y}, \\mathbf{a_x} \\rangle + C_z\\langle \\mathbf{a_z}, \\mathbf{a_x} \\rangle\\\\\n",
        "\\langle \\mathbf{A}, \\mathbf{a_x} \\rangle = C_x\n",
        "$$\n",
        "\n",
        "De forma análoga:\n",
        "\n",
        "$$\n",
        "\\langle \\mathbf{A}, \\mathbf{a_y} \\rangle = C_y\\\\\n",
        "\\langle \\mathbf{A}, \\mathbf{a_z} \\rangle = C_z\n",
        "$$\n",
        "\n",
        "Para un espacio n-dimencional ortogonal y normalizado se tiene:\n",
        "\n",
        "$$\n",
        "\\langle \\mathbf{a_n}, \\mathbf{a_m} \\rangle = \\left\\{ \\begin{array}{lcc}\n",
        "             0 &   si  & m \\neq n\\\\\n",
        "             \\\\ 1 &  si & m=n \\\\\n",
        "             \\end{array}\n",
        "   \\right.\n",
        "$$\n",
        "\n",
        "La representación de $\\mathbf{A} que $in \\mathbb{R}$ está dada por la siguiente expresión:\n",
        "\n",
        "$$\n",
        "\\mathbf{A} = \\sum_{n=1}^k C_n \\mathbf{a_n}\n",
        "$$\n",
        "\n",
        "Donde los valores de $C_n$ que ajustan la representación están dados por:\n",
        "\n",
        "$$\n",
        "C_n = \\frac{\\langle \\mathbf{A}, \\mathbf{a_n} \\rangle}{\\langle \\mathbf{a_n}, \\mathbf{a_n} \\rangle}\n",
        "$$\n",
        "\n",
        "Donde $\\langle \\mathbf{a_n}, \\mathbf{a_n} \\rangle = 1$ y por lo tanto, el cálculo de los $C_n$ es:\n",
        "\n",
        "$$\n",
        "C_n = \\langle \\mathbf{A}, \\mathbf{a_n} \\rangle\n",
        "$$\n",
        "\n",
        "En cuanto a las señales que nos conciernen, estas pertenecen al llamado espacio Hilbert $L^2$, el cual matemáticamente se caracteriza por las siguientes propiedades.\n",
        "\n",
        "\n",
        "\n",
        "1.   Para una señal $x(t) \\in \\mathbb{C}$ entonces la norma de $x(t)$ está dada por:\n",
        "\n",
        "$$\n",
        "\\|x\\| = \\left( \\int_{\\mathbb{R}} |x(t)|^2~dt \\right)^{1/2} < \\infty\n",
        "$$\n",
        "\n",
        "Además, la norma al cuadrado de $x(t)$ corresponde a su energía.\n",
        "$$\n",
        "E_x = \\|x\\|^2\n",
        "$$\n",
        "\n",
        "\n",
        "2.   La proyección de la señal $x(t)$ sobre otra señal $y(t)$ se denota por el producto punto\n",
        "\n",
        "$$\n",
        "\\langle x, y \\rangle = \\int_{\\mathbb{R}} x(t) \\cdot y^*(t)dt~~~ \\forall  x, y \\in \\mathbb{C}\n",
        "$$\n",
        "donde coincide con su energia.\n",
        "\n",
        "$$\n",
        "E_x = \\langle x, x \\rangle = \\int_{\\mathbb{R}} x(t) \\cdot x^*(t)dt = \\int_{\\mathbb{R}} |x(t)|^2dt\n",
        "$$\n",
        "$$\n",
        "\\|x\\|^2 = \\langle x, x \\rangle\n",
        "$$\n",
        "\n",
        "3.    La distancia entre dos señales $x(t)$ y $y(t)$ del espacio de funciones complejas en el timepo, a lo largo de un intervalo $T$, esta dado por la siguiente expresión.\n",
        "\n",
        "$$\n",
        "d(x, y) = \\|x - y\\|^2 = \\int_{T} |x(t)-y(t)|^2dt\n",
        "$$\n",
        "\n",
        "Ahora bien, la representación en forma discreta de cualquier señal de energía, $x \\in L^2(T)$, en el espacio $L^2(t)$, donde su dimensión $n$ se elige a partir del compromiso entre la precisión y la economía de la representación, se da a partir de la siguiente expresión.\n",
        "\n",
        "$$\n",
        "x(t) = \\sum_{n=0}^\\infty C_n \\cdot \\phi_n(t)\n",
        "$$\n",
        "\n",
        "Donde $\\phi_n(t)$ corresponde a un conjunto de señales elegidas apriori, que conforman una base en el espacio funcional $L^2(t)$, las cuales son denominadas funciones base, siendo $n$ el orden de la función dentro del conjunto de funciones $\\{\\phi_n(t)\\}$.\n",
        "\n",
        "Un sistema de funciones complejas $\\{\\phi_n(t)\\}$ se define como ortogonal en un intervalo de representación $(t_i, t_f) si se cumple la relación.\n",
        "\n",
        "$$\n",
        "\\int_{t_i}^{t_f} \\phi_n(t) \\cdot \\phi_m^*(t)dt\\\\\n",
        " =\\int_{t_i}^{t_f} \\phi_m(t) \\cdot \\phi_n^*(t)dt = \\left\\{ \\begin{array}{lcc}\n",
        "             0 &   si  & m \\neq n\\\\\n",
        "             \\\\ E_{mn} &  si & m=n \\\\\n",
        "             \\end{array}\n",
        "   \\right.\n",
        "$$\n",
        "\n",
        "\n",
        "Siendo $E_{mn}=E_{mm}=E_{nn}$ una magnitud de energía.\n",
        "\n",
        "Para señales de ptencia, se tendrá.\n",
        "\n",
        "$$\n",
        "\\frac{1}{t_f-t_i} \\int_{t_i}^{t_f} \\phi_n(t) \\cdot \\phi_m^*(t)dt\\\\\n",
        " =\\frac{1}{t_f-t_i} \\int_{t_i}^{t_f} \\phi_m(t) \\cdot \\phi_n^*(t)dt = \\left\\{ \\begin{array}{lcc}\n",
        "             0 &   si  & m \\neq n\\\\\n",
        "             \\\\ P_{mn} &  si & m=n \\\\\n",
        "             \\end{array}\n",
        "   \\right.\n",
        "$$\n",
        "\n",
        "Donde $P_{mn}=P_{mm}=P_{nn}$ es la potencia media de la función $\\phi_n(t)$.\n",
        "\n",
        "Además, se dice que el conjunto es ortonormal si:\n",
        "\n",
        "$$\n",
        "\\int_{t_i}^{t_f}|\\phi_n(t)^2|dt = 1\n",
        "$$\n",
        "\n",
        "La representación de una señal $x(t)$ de dificil análisis a partir de esacios funcionales ortogonales de facil análisis se harán a partir de una combinación lineal de pesos y funciones basi asi:\n",
        "\n",
        "$$\n",
        "x(t) = C_0\\cdot \\phi_0(t) + C_1\\cdot \\phi_1(t) + ... + C_n\\cdot \\phi_n(t) + ...\\\\\n",
        "= \\sum_{n=0}^{\\infty} C_n\\cdot \\phi_n(t)\n",
        "$$\n",
        "\n",
        "Una primera aproximación para el cálculo de los coeficientes, aprovechará la ortogonalidad del espacio base así; para el cálculo de $C_n$ tomaremos el producto punto a ambos lados de la igualdad por la función base $\\phi_n(t)$.\n",
        "\n",
        "$$\n",
        "\\langle x, \\phi_n \\rangle = C_0\\langle \\phi_0, \\phi_n \\rangle + C_1\\langle \\phi_1, \\phi_n \\rangle + ... + C_n\\langle \\phi_n, \\phi_n \\rangle + ...\n",
        "$$\n",
        "\n",
        "$$\n",
        "C_n = \\frac{\\langle x, \\phi_n \\rangle}{\\langle \\phi_n, \\phi_n \\rangle}\n",
        "$$\n",
        "\n",
        "El conjunto de funciones trigonométricas, conforman un subespacio completo de funciones mutuamente ortogonales en un periodo $T$ y se define a partir de las siguientes funciones:\n",
        "\n",
        "$$\n",
        "\\{ sen(\\omega _0t), sen(2\\omega_0t), sen(3\\omega_0t), ..., sen(n\\omega_0t) \\}\\cup\n",
        "\\{1\\} \\cup \\{ cos(\\omega _0t), cos(2\\omega_0t), cos(3\\omega_0t), ..., cos(n\\omega_0t) \\}\n",
        "$$\n",
        "\n",
        "Con $\\omega_0 = \\frac{2\\pi}{T}$."
      ]
    },
    {
      "cell_type": "code",
      "metadata": {
        "id": "gAtsBI-WsU5C",
        "outputId": "68c28162-7629-4876-ec53-7f48fad20306",
        "colab": {
          "base_uri": "https://localhost:8080/",
          "height": 251
        }
      },
      "source": [
        "from matplotlib.patches import Ellipse, Circle\n",
        "ax.clear()\n",
        "EH = Circle((.5, .5), .48, facecolor=\"orange\", edgecolor='k')\n",
        "ES = Ellipse((0.32, 0.4), .4, .65, 45, facecolor=\"pink\", edgecolor='k')\n",
        "OE = Ellipse((0.75, 0.6), .3, .5, 45, facecolor=\"red\", edgecolor='k')\n",
        "for i in [EH, ES, OE]:\n",
        "    ax.add_patch(i)\n",
        "ax.text(0.15, 0.25, \"sen(wt)\\nsen(2wt)\\nsen(2wt)\\n...\\nsen(nwt)\\n...\\ncos(nwt)\\n1\"\n",
        "        , rotation=45, fontsize=10)\n",
        "text = ('Espacio trigonométrico', 'Espacio de Hilbert $L^{2}$', 'Otos subespacios $\\in L^{2}$')\n",
        "cord = ((.2, .35), (.4, .8), (.8, .6))\n",
        "tex_cor = ((.01, .01), (.01, .96), (.72, .96))\n",
        "for i, j, k in zip(text, cord, tex_cor):\n",
        "    ax.annotate(i, xy=j, xytext=k, arrowprops=dict(facecolor='black', shrink=0.05))\n",
        "ax.axis(\"off\")\n",
        "fig"
      ],
      "execution_count": null,
      "outputs": [
        {
          "output_type": "execute_result",
          "data": {
            "image/png": "[encoded data removed]",
            "text/plain": [
              "<Figure size 432x288 with 1 Axes>"
            ]
          },
          "metadata": {
            "tags": []
          },
          "execution_count": 8
        }
      ]
    },
    {
      "cell_type": "markdown",
      "metadata": {
        "id": "b6kHEhGG0q3Z"
      },
      "source": [
        "## Análisis de la ortogonalidad del espacio funcional trigonométrico.\n",
        "\n",
        "Para un periodo de tiempo $T$ existen 8 combinaciones posibles para la verificación de la ortogonalidad del espacio trigonométrico."
      ]
    },
    {
      "cell_type": "code",
      "metadata": {
        "id": "xvwqgrWG1FQc"
      },
      "source": [
        "from sympy import *\n",
        "t, T = symbols(\"t T\", Real=True)\n",
        "n, m = symbols('n, m', integer=True)\n",
        "w = 2*pi/T\n",
        "init_printing()"
      ],
      "execution_count": null,
      "outputs": []
    },
    {
      "cell_type": "markdown",
      "metadata": {
        "id": "PUAx5NwQ1tDX"
      },
      "source": [
        "1.  \n",
        "$$\n",
        "\\int_{0}^{T} 1 \\cdot 1 dt \\neq 0\n",
        "$$"
      ]
    },
    {
      "cell_type": "code",
      "metadata": {
        "id": "8WiAeRNR1ImV",
        "outputId": "d4eb8d00-653e-4336-909c-1b31f4955d1c",
        "colab": {
          "base_uri": "https://localhost:8080/",
          "height": 37
        }
      },
      "source": [
        "integrate(1, (t, 0, T))"
      ],
      "execution_count": null,
      "outputs": [
        {
          "output_type": "execute_result",
          "data": {
            "image/png": "[encoded data removed]",
            "text/latex": "$$T$$",
            "text/plain": [
              "T"
            ]
          },
          "metadata": {
            "tags": []
          },
          "execution_count": 10
        }
      ]
    },
    {
      "cell_type": "markdown",
      "metadata": {
        "id": "_uQZi4UQ2Yi3"
      },
      "source": [
        "2.  \n",
        "$$\n",
        "\\int_{0}^{T} cos(n\\omega_0t) \\cdot cos(n\\omega_0t) dt \\neq 0\n",
        "$$"
      ]
    },
    {
      "cell_type": "code",
      "metadata": {
        "id": "jjKcjWMB2oXr",
        "outputId": "d2a934f1-755f-4d0c-d41e-94ac6322b140",
        "colab": {
          "base_uri": "https://localhost:8080/",
          "height": 68
        }
      },
      "source": [
        "integrate(cos(n*w*t)*cos(n*w*t), (t, 0, T))"
      ],
      "execution_count": null,
      "outputs": [
        {
          "output_type": "execute_result",
          "data": {
            "text/latex": "$$\\begin{cases} T & \\text{for}\\: \\frac{2 \\pi}{T} n = 0 \\\\\\frac{T}{2} & \\text{otherwise} \\end{cases}$$",
            "text/plain": [
              "⎧       2⋅π⋅n    \n",
              "⎪T  for ───── = 0\n",
              "⎪         T      \n",
              "⎨                \n",
              "⎪T               \n",
              "⎪─    otherwise  \n",
              "⎩2               "
            ]
          },
          "metadata": {
            "tags": []
          },
          "execution_count": 11
        }
      ]
    },
    {
      "cell_type": "markdown",
      "metadata": {
        "id": "8lN4xKma3Y4q"
      },
      "source": [
        "3.  \n",
        "$$\n",
        "\\int_{0}^{T} sen(n\\omega_0t) \\cdot sen(n\\omega_0t) dt \\neq 0\n",
        "$$"
      ]
    },
    {
      "cell_type": "code",
      "metadata": {
        "id": "ap0gkQI72xcm",
        "outputId": "913b278a-9bc1-4e07-b998-df28b372b70d",
        "colab": {
          "base_uri": "https://localhost:8080/",
          "height": 68
        }
      },
      "source": [
        "integrate(sin(n*w*t)*sin(n*w*t), (t, 0, T))"
      ],
      "execution_count": null,
      "outputs": [
        {
          "output_type": "execute_result",
          "data": {
            "text/latex": "$$\\begin{cases} 0 & \\text{for}\\: \\frac{2 \\pi}{T} n = 0 \\\\\\frac{T}{2} & \\text{otherwise} \\end{cases}$$",
            "text/plain": [
              "⎧       2⋅π⋅n    \n",
              "⎪0  for ───── = 0\n",
              "⎪         T      \n",
              "⎨                \n",
              "⎪T               \n",
              "⎪─    otherwise  \n",
              "⎩2               "
            ]
          },
          "metadata": {
            "tags": []
          },
          "execution_count": 12
        }
      ]
    },
    {
      "cell_type": "markdown",
      "metadata": {
        "id": "lVd4wBGe3zAP"
      },
      "source": [
        "4.  \n",
        "$$\n",
        "\\int_{0}^{T} 1 \\cdot cos(n\\omega_0t) dt = 0\n",
        "$$"
      ]
    },
    {
      "cell_type": "code",
      "metadata": {
        "id": "xt1sntQK3wgV",
        "outputId": "8ad308dd-c71f-49b4-aee8-39e0d905c2f0",
        "colab": {
          "base_uri": "https://localhost:8080/",
          "height": 68
        }
      },
      "source": [
        "integrate(cos(n*w*t), (t, 0, T))"
      ],
      "execution_count": null,
      "outputs": [
        {
          "output_type": "execute_result",
          "data": {
            "text/latex": "$$\\begin{cases} T & \\text{for}\\: \\frac{2 \\pi}{T} n = 0 \\\\0 & \\text{otherwise} \\end{cases}$$",
            "text/plain": [
              "⎧       2⋅π⋅n    \n",
              "⎪T  for ───── = 0\n",
              "⎨         T      \n",
              "⎪                \n",
              "⎩0    otherwise  "
            ]
          },
          "metadata": {
            "tags": []
          },
          "execution_count": 13
        }
      ]
    },
    {
      "cell_type": "markdown",
      "metadata": {
        "id": "DnZDb4Vy4DJ-"
      },
      "source": [
        "5.  \n",
        "$$\n",
        "\\int_{0}^{T} 1 \\cdot sen(n\\omega_0t) dt = 0\n",
        "$$"
      ]
    },
    {
      "cell_type": "code",
      "metadata": {
        "id": "NcSdoQvQ33EV",
        "outputId": "e5380573-ffa2-499c-9a2e-4daab342ef27",
        "colab": {
          "base_uri": "https://localhost:8080/",
          "height": 37
        }
      },
      "source": [
        "integrate(sin(n*w*t), (t, 0, T))"
      ],
      "execution_count": null,
      "outputs": [
        {
          "output_type": "execute_result",
          "data": {
            "image/png": "[encoded data removed]",
            "text/latex": "$$0$$",
            "text/plain": [
              "0"
            ]
          },
          "metadata": {
            "tags": []
          },
          "execution_count": 14
        }
      ]
    },
    {
      "cell_type": "markdown",
      "metadata": {
        "id": "2jV-aq8-4Sbc"
      },
      "source": [
        "6.  \n",
        "$$\n",
        "\\int_{0}^{T} cos(n\\omega_0t) \\cdot cos(m\\omega_0t) dt = 0\n",
        "$$\n",
        "Para $m \\neq n$."
      ]
    },
    {
      "cell_type": "code",
      "metadata": {
        "id": "7o-D_IED4G4n",
        "outputId": "0009571b-ed0b-46e4-b849-8d6bab503156",
        "colab": {
          "base_uri": "https://localhost:8080/",
          "height": 90
        }
      },
      "source": [
        "integrate(cos(n*w*t)*cos(m*w*t), (t, 0, T))"
      ],
      "execution_count": null,
      "outputs": [
        {
          "output_type": "execute_result",
          "data": {
            "text/latex": "$$\\begin{cases} T & \\text{for}\\: m = 0 \\wedge n = 0 \\\\\\frac{T}{2} & \\text{for}\\: m = - n \\vee m = n \\\\0 & \\text{otherwise} \\end{cases}$$",
            "text/plain": [
              "⎧T  for m = 0 ∧ n = 0 \n",
              "⎪                     \n",
              "⎪T                    \n",
              "⎨─  for m = -n ∨ m = n\n",
              "⎪2                    \n",
              "⎪                     \n",
              "⎩0      otherwise     "
            ]
          },
          "metadata": {
            "tags": []
          },
          "execution_count": 15
        }
      ]
    },
    {
      "cell_type": "markdown",
      "metadata": {
        "id": "yoHJC0rK45cY"
      },
      "source": [
        "7.  \n",
        "$$\n",
        "\\int_{0}^{T} sin(n\\omega_0t) \\cdot sin(m\\omega_0t) dt = 0\n",
        "$$\n",
        "Para $m \\neq n$."
      ]
    },
    {
      "cell_type": "code",
      "metadata": {
        "id": "QDv8KLSZ5Aey",
        "outputId": "c7f9ce80-e908-4eae-9fed-e44f806d2a09",
        "colab": {
          "base_uri": "https://localhost:8080/",
          "height": 115
        }
      },
      "source": [
        "integrate(sin(n*w*t)*sin(m*w*t), (t, 0, T))"
      ],
      "execution_count": null,
      "outputs": [
        {
          "output_type": "execute_result",
          "data": {
            "text/latex": "$$\\begin{cases} 0 & \\text{for}\\: m = 0 \\wedge n = 0 \\\\- \\frac{T}{2} & \\text{for}\\: m = - n \\\\\\frac{T}{2} & \\text{for}\\: m = n \\\\0 & \\text{otherwise} \\end{cases}$$",
            "text/plain": [
              "⎧ 0   for m = 0 ∧ n = 0\n",
              "⎪                      \n",
              "⎪-T                    \n",
              "⎪───     for m = -n    \n",
              "⎪ 2                    \n",
              "⎨                      \n",
              "⎪ T                    \n",
              "⎪ ─       for m = n    \n",
              "⎪ 2                    \n",
              "⎪                      \n",
              "⎩ 0       otherwise    "
            ]
          },
          "metadata": {
            "tags": []
          },
          "execution_count": 16
        }
      ]
    },
    {
      "cell_type": "markdown",
      "metadata": {
        "id": "NvetWP6P5zzU"
      },
      "source": [
        "8.  \n",
        "$$\n",
        "\\int_{0}^{T} cos(n\\omega_0t) \\cdot sin(m\\omega_0t) dt = 0\n",
        "$$"
      ]
    },
    {
      "cell_type": "code",
      "metadata": {
        "id": "NZd-8JgU5CPp",
        "outputId": "cc8e9f60-639b-494a-a54b-8fb2a3409aa5",
        "colab": {
          "base_uri": "https://localhost:8080/",
          "height": 37
        }
      },
      "source": [
        "integrate(cos(n*w*t)*sin(m*w*t), (t, 0, T))"
      ],
      "execution_count": null,
      "outputs": [
        {
          "output_type": "execute_result",
          "data": {
            "image/png": "[encoded data removed]",
            "text/latex": "$$0$$",
            "text/plain": [
              "0"
            ]
          },
          "metadata": {
            "tags": []
          },
          "execution_count": 17
        }
      ]
    },
    {
      "cell_type": "markdown",
      "metadata": {
        "id": "XT7fcTuT6bP-"
      },
      "source": [
        "## Análisis de la ortogonalidad del subespacio de Legendre que\n",
        "\n",
        "*   Elemento de la lista\n",
        "*   Elemento de la lista\n",
        "\n",
        "pertenece a $L^2$.\n",
        "\n",
        "El grupo de polinomios de legendre $P_n(x)$, con $n \\in \\mathbb{Z}^+$ forma un conjunto completo de funciones mutuamente ortogonales en el intervalo $(-1 < t < 1)$ y se define a partir de la formula de Rodriguez.\n",
        "\n",
        "$$\n",
        "P_n(t) = \\frac{1}{2^nn!}\\frac{d^n}{dt^n}(t^2-1)^n\n",
        "$$\n",
        "\n",
        "Se deduce que esta ecuación que:\n",
        "\n",
        "$$\n",
        "P_0(t) = 1\\\\\n",
        "P_1(t) = t\\\\\n",
        "P_2(t) = \\left(\\frac{3}{2}t^2-\\frac{1}{2}\\right)\\\\\n",
        "P_3(t) = \\left(\\frac{5}{2}t^3-\\frac{3}{2}\\right)\\\\\n",
        "$$\n",
        "y así sucesivamente.\n",
        "\n",
        "Se puede verificar la ortogonalidad de estos polinomios."
      ]
    },
    {
      "cell_type": "code",
      "metadata": {
        "id": "0g_2pHRT9VYK",
        "outputId": "de1f1a92-bbe5-4ca8-b4fc-3673e0719370",
        "colab": {
          "base_uri": "https://localhost:8080/",
          "height": 974
        }
      },
      "source": [
        "for i in range(0, 9):\n",
        "    print(\"P{}(t) =\".format(i))\n",
        "    pprint(legendre(i, t), )\n",
        "    print(end=2*'\\n')"
      ],
      "execution_count": null,
      "outputs": [
        {
          "output_type": "stream",
          "text": [
            "P0(t) =\n",
            "1\n",
            "\n",
            "\n",
            "P1(t) =\n",
            "t\n",
            "\n",
            "\n",
            "P2(t) =\n",
            "   2    \n",
            "3⋅t    1\n",
            "──── - ─\n",
            " 2     2\n",
            "\n",
            "\n",
            "P3(t) =\n",
            "   3      \n",
            "5⋅t    3⋅t\n",
            "──── - ───\n",
            " 2      2 \n",
            "\n",
            "\n",
            "P4(t) =\n",
            "    4       2    \n",
            "35⋅t    15⋅t    3\n",
            "───── - ───── + ─\n",
            "  8       4     8\n",
            "\n",
            "\n",
            "P5(t) =\n",
            "    5       3       \n",
            "63⋅t    35⋅t    15⋅t\n",
            "───── - ───── + ────\n",
            "  8       4      8  \n",
            "\n",
            "\n",
            "P6(t) =\n",
            "     6        4        2     \n",
            "231⋅t    315⋅t    105⋅t    5 \n",
            "────── - ────── + ────── - ──\n",
            "  16       16       16     16\n",
            "\n",
            "\n",
            "P7(t) =\n",
            "     7        5        3       \n",
            "429⋅t    693⋅t    315⋅t    35⋅t\n",
            "────── - ────── + ────── - ────\n",
            "  16       16       16      16 \n",
            "\n",
            "\n",
            "P8(t) =\n",
            "      8         6         4        2      \n",
            "6435⋅t    3003⋅t    3465⋅t    315⋅t     35\n",
            "─────── - ─────── + ─────── - ────── + ───\n",
            "  128        32        64       32     128\n",
            "\n",
            "\n"
          ],
          "name": "stdout"
        }
      ]
    },
    {
      "cell_type": "code",
      "metadata": {
        "id": "F8MZweCYKlJL",
        "outputId": "51b26732-2ba1-48c4-8a26-a63a14dd16cd",
        "colab": {
          "base_uri": "https://localhost:8080/",
          "height": 42
        }
      },
      "source": [
        "n, m = symbols('n, m', integer=True, positive=True)\n",
        "integrate(legendre(n, t)*legendre(m, t), (t, -1, 1))"
      ],
      "execution_count": null,
      "outputs": [
        {
          "output_type": "execute_result",
          "data": {
            "image/png": "[encoded data removed]",
            "text/latex": "$$\\int_{-1}^{1} P_{m}\\left(t\\right) P_{n}\\left(t\\right)\\, dt$$",
            "text/plain": [
              "1                                  \n",
              "⌠                                  \n",
              "⎮  legendre(m, t)⋅legendre(n, t) dt\n",
              "⌡                                  \n",
              "-1                                 "
            ]
          },
          "metadata": {
            "tags": []
          },
          "execution_count": 19
        }
      ]
    },
    {
      "cell_type": "markdown",
      "metadata": {
        "id": "tZWrSKuJFr9Y"
      },
      "source": [
        "Las funciones de Walsh conforman un conjunto completo de funciones mutuamente ortogonales en el intervalo $[0, 1]$ y se definen conceptualmente para este curso, por los siguentes gráficos."
      ]
    },
    {
      "cell_type": "code",
      "metadata": {
        "id": "iNwP9lG5HvUR",
        "outputId": "8f527565-ecd8-49db-ad47-8ab9e6aaea93",
        "colab": {
          "base_uri": "https://localhost:8080/",
          "height": 1000
        }
      },
      "source": [
        "import warnings\n",
        "warnings.filterwarnings(\"ignore\")\n",
        "r = sign(sin(2**n*pi*t))\n",
        "walsh = [1, r.subs(n, 1), r.subs(n, 1)*r.subs(n, 2), r.subs(n, 2),\n",
        "         r.subs(n, 2)*r.subs(n, 3), r.subs(n, 1)*r.subs(n, 2)*r.subs(n, 3)]\n",
        "for i in walsh:\n",
        "    plot(i, (t, 0, 1), ylim=[-1, 1])"
      ],
      "execution_count": null,
      "outputs": [
        {
          "output_type": "display_data",
          "data": {
            "image/png": "[encoded data removed]",
            "text/plain": [
              "<Figure size 432x288 with 1 Axes>"
            ]
          },
          "metadata": {
            "tags": [],
            "needs_background": "light"
          }
        },
        {
          "output_type": "display_data",
          "data": {
            "image/png": "[encoded data removed]",
            "text/plain": [
              "<Figure size 432x288 with 1 Axes>"
            ]
          },
          "metadata": {
            "tags": [],
            "needs_background": "light"
          }
        },
        {
          "output_type": "display_data",
          "data": {
            "image/png": "[encoded data removed]",
            "text/plain": [
              "<Figure size 432x288 with 1 Axes>"
            ]
          },
          "metadata": {
            "tags": [],
            "needs_background": "light"
          }
        },
        {
          "output_type": "display_data",
          "data": {
            "image/png": "[encoded data removed]",
            "text/plain": [
              "<Figure size 432x288 with 1 Axes>"
            ]
          },
          "metadata": {
            "tags": [],
            "needs_background": "light"
          }
        },
        {
          "output_type": "display_data",
          "data": {
            "image/png": "[encoded data removed]",
            "text/plain": [
              "<Figure size 432x288 with 1 Axes>"
            ]
          },
          "metadata": {
            "tags": [],
            "needs_background": "light"
          }
        },
        {
          "output_type": "display_data",
          "data": {
            "image/png": "[encoded data removed]",
            "text/plain": [
              "<Figure size 432x288 with 1 Axes>"
            ]
          },
          "metadata": {
            "tags": [],
            "needs_background": "light"
          }
        }
      ]
    }
  ]
}